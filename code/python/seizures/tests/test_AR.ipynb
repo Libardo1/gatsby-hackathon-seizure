{
 "metadata": {
  "name": "",
  "signature": "sha256:c485cdc57c2a9066510bbe64482a1e524fb3d492746dcfc892ce6c9d0f90f069"
 },
 "nbformat": 3,
 "nbformat_minor": 0,
 "worksheets": [
  {
   "cells": [
    {
     "cell_type": "code",
     "collapsed": false,
     "input": [
      "%pylab\n",
      "import numpy as np\n",
      "from seizures.features.FeatureExtractBase import FeatureExtractBase\n",
      "from statsmodels.tsa.vector_ar.var_model import VAR\n",
      "from seizures.features.ARFeatures import ARFeatures\n",
      "import scipy.signal\n",
      "from itertools import tee, izip\n",
      "from matplotlib import pyplot as plt\n",
      "from seizures.data.DataLoader import DataLoader, EEGData\n"
     ],
     "language": "python",
     "metadata": {},
     "outputs": [
      {
       "output_type": "stream",
       "stream": "stdout",
       "text": [
        "Using matplotlib backend: Qt4Agg\n",
        "Populating the interactive namespace from numpy and matplotlib\n"
       ]
      }
     ],
     "prompt_number": 1
    },
    {
     "cell_type": "code",
     "collapsed": false,
     "input": [
      "data_path = \"/nfs/data3/kaggle_seizure/scratch/Stiched_data/Dog_1/\"\n",
      "feature_extractor = ARFeatures()\n",
      "eeg_data = EEGData(data_path+'Dog_1_ictal_segment_1')\n",
      "instances = eeg_data.get_instances()\n",
      "X = instances[1].eeg_data\n"
     ],
     "language": "python",
     "metadata": {},
     "outputs": []
    },
    {
     "cell_type": "code",
     "collapsed": false,
     "input": [
      "# Extracting all features for DOG_1\n",
      "\n",
      "import glob\n",
      "import scipy.io\n",
      "path ='/nfs/data3/kaggle_seizure/clips/Dog_1/'\n",
      "filenames = glob.glob(path+'*')\n",
      "\n",
      "\n",
      "feature_mat = np.zeros((len(filenames),528))\n",
      "labels = np.zeros((len(filenames),1))\n",
      "i=0\n",
      "for filename in filenames:\n",
      "    data = scipy.io.loadmat(filename)['data']\n",
      "    #### Extracted brutally from ARFeatures.py\n",
      "    params = VAR(data.T).fit(maxlags=2).params\n",
      "    feature_mat[i,:] = np.hstack(params.reshape( (np.prod(params.shape),1) ))\n",
      "    #### \n",
      "    if filename.find('interictal')>-1:\n",
      "        labels[i] = 1\n",
      "    elif filename.find('ictal')>-1:\n",
      "        labels[i] = 2\n",
      "    else:\n",
      "        labels[i] = 3\n",
      "    \n",
      "    i+=1"
     ],
     "language": "python",
     "metadata": {},
     "outputs": []
    },
    {
     "cell_type": "code",
     "collapsed": false,
     "input": [
      "import pickle\n",
      "# Locally saving:\n",
      "#stats_AR = { \"filenames\": filenames,\n",
      "#            \"labels\": labels,\n",
      "#            \"feature_mat\":feature_mat}\n",
      "#pickle.dump( stats_AR, open( \"save_AR_stats.p\", \"wb\" ))\n",
      "l = pickle.load( open( \"save_AR_stats.p\", \"rb\" ))\n",
      "feature_mat = l['feature_mat']\n",
      "labels = l['labels']\n"
     ],
     "language": "python",
     "metadata": {},
     "outputs": []
    },
    {
     "cell_type": "code",
     "collapsed": false,
     "input": [
      "# PCA ON Features\n",
      "\n",
      "def I_x(k):\n",
      "    return [i for i in range(len(labels)) if labels[i] == k]\n",
      "def I_s(s):\n",
      "    assert(s in [\"test\",\"ictal\",\"interictal\"])\n",
      "    if s==\"test\":\n",
      "        k= 3\n",
      "    elif s==\"ictal\":\n",
      "        k= 2\n",
      "    elif s==\"interictal\":\n",
      "        k= 1\n",
      "    return I_x(k)\n",
      "\n",
      "print feature_mat.shape\n",
      "print 'Ictal segments: '+str(len(I_x(1)))\n",
      "print 'InterIctal segments: '+str(len(I_x(2)))\n",
      "print 'Test segments: '+str(len(I_x(3)))\n",
      "\n",
      "\n",
      "permutation = I_x(1)+I_x(2)+I_x(3)\n",
      "feature_mat = feature_mat[permutation,:]\n",
      "feature_mean =np.mean(feature_mat,axis=0)\n",
      "feature_mat_c = feature_mat-np.mean(feature_mat,axis=0)\n",
      "\n",
      "\n",
      "fig,ax = plt.subplots(1,1,figsize=(10,5))\n",
      "iax = ax.imshow(feature_mat_c, aspect='auto')\n",
      "ax.set_title('All data, ordered')\n",
      "fig.colorbar(iax)\n",
      "fig.show()\n",
      "\n",
      "fig,ax = plt.subplots(1,1)\n",
      "iax = ax.imshow(feature_mat_c[I_s(\"interictal\"),:], aspect='auto')\n",
      "ax.set_title('Interictal')\n",
      "fig.colorbar(iax)\n",
      "fig.show()\n",
      "\n",
      "fig,ax = plt.subplots(1,1)\n",
      "iax = ax.imshow(feature_mat_c[I_s(\"ictal\"),:], aspect='auto')\n",
      "ax.set_title('Ictal')\n",
      "fig.colorbar(iax)\n",
      "fig.show()\n",
      "\n",
      "fig,ax = plt.subplots(1,1)\n",
      "iax = ax.imshow(feature_mat_c[I_s(\"test\"),:], aspect='auto')\n",
      "ax.set_title('Test')\n",
      "fig.colorbar(iax)\n",
      "fig.show()\n",
      "\n"
     ],
     "language": "python",
     "metadata": {},
     "outputs": []
    },
    {
     "cell_type": "code",
     "collapsed": false,
     "input": [
      "np.mean(feature_mat,axis=0).shape"
     ],
     "language": "python",
     "metadata": {},
     "outputs": []
    },
    {
     "cell_type": "code",
     "collapsed": false,
     "input": [
      "# Run SVD on features\n",
      "\n",
      "import numpy as np\n",
      "U, s, V = np.linalg.svd(feature_mat_c, full_matrices=True)\n"
     ],
     "language": "python",
     "metadata": {},
     "outputs": []
    },
    {
     "cell_type": "code",
     "collapsed": false,
     "input": [
      "f0=plt.figure()\n",
      "plt.plot(feature_mean)\n",
      "plt.title('feature mean')\n",
      "plt.show()\n",
      "\n",
      "f1=plt.figure()\n",
      "plt.plot(V[0:3,:].T)\n",
      "plt.title('feature principal dimensions')\n",
      "plt.show()\n",
      "\n",
      "\n",
      "\n",
      "f2=plt.figure()\n",
      "plt.plot(log(s))\n",
      "plt.title('singular values')\n",
      "plt.show()\n",
      "\n",
      "f3=plt.figure()\n",
      "plt.scatter(np.dot(feature_mat_c[I_x(3),:],V[0,:]),\n",
      "            np.dot(feature_mat_c[I_x(3),:],V[1,:]), c='g')\n",
      "plt.scatter(np.dot(feature_mat_c[I_x(1),:],V[0,:]),\n",
      "            np.dot(feature_mat_c[I_x(1),:],V[1,:]), c='r')\n",
      "plt.scatter(np.dot(feature_mat_c[I_x(2),:],V[0,:]),\n",
      "            np.dot(feature_mat_c[I_x(2),:],V[1,:]), c='b')\n",
      "plt.show()\n"
     ],
     "language": "python",
     "metadata": {},
     "outputs": []
    },
    {
     "cell_type": "code",
     "collapsed": false,
     "input": [
      "# Plot 3 first dim\n",
      "from mpl_toolkits.mplot3d import Axes3D\n",
      "fig = plt.figure()\n",
      "ax = fig.add_subplot(111, projection='3d')\n",
      "\n",
      "ax.scatter(np.dot(feature_mat[I_x(3),:],V[0,:]),\n",
      "            np.dot(feature_mat[I_x(3),:],V[1,:]),\n",
      "            np.dot(feature_mat[I_x(3),:],V[2,:]), c='g')\n",
      "ax.scatter(np.dot(feature_mat[I_x(1),:],V[0,:]),\n",
      "            np.dot(feature_mat[I_x(1),:],V[1,:]),\n",
      "            np.dot(feature_mat[I_x(1),:],V[2,:]),c='r')\n",
      "ax.scatter(np.dot(feature_mat[I_x(2),:],V[0,:]),\n",
      "            np.dot(feature_mat[I_x(2),:],V[1,:]),\n",
      "            np.dot(feature_mat[I_x(2),:],V[2,:]),c='b')"
     ],
     "language": "python",
     "metadata": {},
     "outputs": []
    },
    {
     "cell_type": "code",
     "collapsed": false,
     "input": [
      "### TEST FROM SITE\n",
      "import numpy as np\n",
      "import matplotlib.pyplot as plt\n",
      "import mlpy\n",
      "np.random.seed(0)\n",
      "mean1, cov1, n1 = [1, 4.5,0], [[1,1,0],[1,2,0],[0,0,1]], 20  # 20 samples of class 1\n",
      "x1 = np.random.multivariate_normal(mean1, cov1, n1)\n",
      "y1 = np.ones(n1, dtype=np.int)\n",
      "mean2, cov2, n2 = [2.5, 2.5,-1.], [[1,1,0],[1,2,0],[0,0,1]], 30 # 30 samples of class 2\n",
      "x2 = np.random.multivariate_normal(mean2, cov2, n2)\n",
      "y2 = 2 * np.ones(n2, dtype=np.int)\n",
      "\n",
      "x = np.concatenate((x1, x2), axis=0) # concatenate the samples\n",
      "y = np.concatenate((y1, y2))\n",
      "lda = mlpy.LDA()\n",
      "lda.learn(x, y) # compute the tranformation matrix\n",
      "z = lda.transform(x) # embedded x into the C-1 = 1 dimensional space"
     ],
     "language": "python",
     "metadata": {},
     "outputs": []
    },
    {
     "cell_type": "code",
     "collapsed": false,
     "input": [
      "### LDA \n",
      "\n",
      "import mlpy\n",
      "x1 = feature_mat_c[I_s(\"ictal\"),:]\n",
      "x2 = feature_mat_c[I_s(\"interictal\"),:]\n",
      "y1 = labels[I_s(\"ictal\"),:]\n",
      "y2 = labels[I_s(\"interictal\"),:]\n",
      "\n",
      "x = np.concatenate((x1, x2), axis=0) # concatenate the samples\n",
      "y = np.hstack(np.concatenate((y1, y2)))\n",
      "lda = mlpy.LDA()\n",
      "lda.learn(x, y) # compute the tranformation matrix\n",
      "z1 = lda.transform(x1) # embedded x into the C-1 = 1 dimensional space\n",
      "z2 = lda.transform(x2) # embedded x into the C-1 = 1 dimensional space"
     ],
     "language": "python",
     "metadata": {},
     "outputs": []
    },
    {
     "cell_type": "code",
     "collapsed": false,
     "input": [
      "x3 = feature_mat_c[I_s(\"test\"),:]\n",
      "z3 = lda.transform(x3) # embedded x into the C-1 = 1 dimensional space\n",
      "\n",
      "f0=plt.figure()\n",
      "plt.hist(z1,bins=20,color='r')\n",
      "plt.hist(z2,bins=20,color='b')\n",
      "plt.show()\n",
      "f1=plt.figure()\n",
      "plt.hist(z3,bins=100,color='g')\n",
      "plt.show()\n"
     ],
     "language": "python",
     "metadata": {},
     "outputs": []
    },
    {
     "cell_type": "code",
     "collapsed": false,
     "input": [
      "help(plt.hist)"
     ],
     "language": "python",
     "metadata": {},
     "outputs": []
    },
    {
     "cell_type": "code",
     "collapsed": false,
     "input": [],
     "language": "python",
     "metadata": {},
     "outputs": []
    }
   ],
   "metadata": {}
  }
 ]
}