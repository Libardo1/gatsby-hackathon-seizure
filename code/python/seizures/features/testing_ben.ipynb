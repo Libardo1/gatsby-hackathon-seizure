{
 "metadata": {
  "name": "",
  "signature": "sha256:54da72de16069bd78f36892f296f07111b427739730db022b3119b65b74272a0"
 },
 "nbformat": 3,
 "nbformat_minor": 0,
 "worksheets": [
  {
   "cells": [
    {
     "cell_type": "code",
     "collapsed": false,
     "input": [
      "%pylab inline\n",
      "import numpy as np\n",
      "from seizures.features.FeatureExtractBase import FeatureExtractBase\n",
      "from statsmodels.tsa.vector_ar.var_model import VAR\n",
      "from seizures.features.ARFeatures import ARFeatures\n",
      "import scipy.signal\n",
      "from itertools import tee, izip\n",
      "from matplotlib import pyplot as plt\n",
      "\n",
      "from seizures.data.DataLoader import DataLoader, EEGData\n"
     ],
     "language": "python",
     "metadata": {},
     "outputs": []
    },
    {
     "cell_type": "code",
     "collapsed": false,
     "input": [
      "data_path = \"/nfs/data3/kaggle_seizure/scratch/Stiched_data/Dog_1/\"\n",
      "feature_extractor = ARFeatures()\n",
      "eeg_data = EEGData(data_path+'Dog_1_ictal_segment_1')\n",
      "instances = eeg_data.get_instances()\n",
      "X = instances[1].eeg_data\n",
      "print X\n",
      "\n",
      "plt.plot(X.T)"
     ],
     "language": "python",
     "metadata": {},
     "outputs": []
    },
    {
     "cell_type": "code",
     "collapsed": false,
     "input": [
      "\n",
      "data = X\n",
      "q = 2 # ds facto\t\t\n",
      "data_ds\t= scipy.signal.decimate(data, q)\n",
      "print data_ds.shape\n",
      "def pairwise(iterable):\n",
      "    \"s -> (s0,s1), (s1,s2), (s2, s3), ...\"\n",
      "    a, b = tee(iterable)\n",
      "    next(b, None)\n",
      "    return izip(a, b)\n",
      "\n",
      "#building pairwise cross correlations\n",
      "N_time = data_ds.shape[1]\n",
      "N_channel=data_ds.shape[0]\n",
      "print N_channel, N_time\n",
      "M = np.zeros( (N_channel*(N_channel-1)/2, 2*N_time-1) )\n",
      "i = 0\n",
      "for v in range(N_channel):\n",
      "    for w in range(0,v):\n",
      "        M[i,:] = np.correlate(data_ds[v],data_ds[w],mode=\"full\")\n",
      "        i+=1\n",
      "\n",
      "print M.shape\n",
      "#compution SVD\n",
      "U, s, V = np.linalg.svd(M, full_matrices=True)\n",
      "\n",
      "print V.shape\n",
      "print np.dot(V[0,:],V[1,:])\n",
      "print np.dot(V[0,:],V[1,:])\n",
      "\n",
      "fig = plt.figure(figsize=(10,20))\n",
      "plt.imshow(data_ds)\n",
      "plt.show()\n",
      "plt.plot(s)\n",
      "plt.show()\n",
      "plt.imshow(M)\n",
      "plt.show()\n",
      "plt.imshow(V)\n",
      "plt.show()\n",
      "\n",
      "N_pairs = M.shape[0]\n",
      "\n",
      "S=np.zeros((N_pairs,M.shape[1]))\n",
      "\n",
      "S[0:N_pairs,0:N_pairs]=np.diag(s)\n",
      "plt.imshow( np.dot(np.dot(U,S),V))\n",
      "plt.show()\n",
      "\n",
      "\n",
      "N_singular_vec = 10\n",
      "N_fft = 30\n",
      "\n",
      "sgn=sign(V[:,(V.shape[1]-1)/2])\n",
      "V_sgn=np.dot(np.diag(sgn),V)\n",
      "V_fft = np.real(np.fft.fft(V_sgn[0:N_singular_vec-1,:]))\n",
      "#V_fft = np.real(np.fft.fft(V[0:N_singular_vec-1,:]))\n",
      "#[0:N_fft-1,:]\n",
      "\n",
      "plt.plot(V_sgn[0:N_singular_vec-1,:].T)\n",
      "plt.show()\n",
      "\n",
      "features = V_fft[:,0:N_fft-1]\n",
      "\n",
      "plt.plot(V_fft[:,0:N_fft-1].T)\n",
      "plt.show()\n",
      "\n",
      "plt.plot(np.flipud(V_fft[:,-15:-1].T))\n",
      "plt.show()\n",
      "\n",
      "#final extraction\n"
     ],
     "language": "python",
     "metadata": {},
     "outputs": []
    },
    {
     "cell_type": "code",
     "collapsed": false,
     "input": [
      "N_singular_vec = 10\n",
      "N_fft = 30\n",
      "\n",
      "data = X\n",
      "q = 2 # ds facto\t\t\n",
      "data_ds\t= scipy.signal.decimate(data, q)\n",
      "#building pairwise cross correlations\n",
      "N_time = data_ds.shape[1]\n",
      "N_channel=data_ds.shape[0]\n",
      "M = np.zeros( (N_channel*(N_channel-1)/2, 2*N_time-1) )\n",
      "i = 0\n",
      "for v in range(N_channel):\n",
      "    for w in range(0,v):\n",
      "        M[i,:] = np.correlate(data_ds[v],data_ds[w],mode=\"full\")\n",
      "        i+=1\n",
      "print M.shape\n",
      "#compution SVD\n",
      "U, s, V = np.linalg.svd(M, full_matrices=True)\n",
      "\n",
      "sgn=sign(V[:,(V.shape[1]-1)/2])\n",
      "V_sgn=np.dot(np.diag(sgn),V)\n",
      "V_fft = np.real(np.fft.fft(V_sgn[0:N_singular_vec-1,:]))\n",
      "features = V_fft[:,0:N_fft-1]\n"
     ],
     "language": "python",
     "metadata": {},
     "outputs": []
    },
    {
     "cell_type": "code",
     "collapsed": false,
     "input": [
      "2*N_time-1"
     ],
     "language": "python",
     "metadata": {},
     "outputs": [
      {
       "metadata": {},
       "output_type": "pyout",
       "prompt_number": 75,
       "text": [
        "399"
       ]
      }
     ],
     "prompt_number": 75
    },
    {
     "cell_type": "code",
     "collapsed": false,
     "input": [],
     "language": "python",
     "metadata": {},
     "outputs": []
    }
   ],
   "metadata": {}
  }
 ]
}