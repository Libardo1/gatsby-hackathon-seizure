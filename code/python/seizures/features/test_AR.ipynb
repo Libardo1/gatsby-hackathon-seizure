{
 "metadata": {
  "name": "",
  "signature": "sha256:e3df5cefc224003e40fd37905e1a61149841d0b6affebe9ae78773a0292c7ce9"
 },
 "nbformat": 3,
 "nbformat_minor": 0,
 "worksheets": [
  {
   "cells": [
    {
     "cell_type": "code",
     "collapsed": false,
     "input": [
      "%pylab\n",
      "import numpy as np\n",
      "from seizures.features.FeatureExtractBase import FeatureExtractBase\n",
      "from statsmodels.tsa.vector_ar.var_model import VAR\n",
      "from seizures.features.ARFeatures import ARFeatures\n",
      "import scipy.signal\n",
      "from itertools import tee, izip\n",
      "from matplotlib import pyplot as plt\n",
      "from seizures.data.DataLoader import DataLoader, EEGData\n"
     ],
     "language": "python",
     "metadata": {},
     "outputs": []
    },
    {
     "cell_type": "code",
     "collapsed": false,
     "input": [
      "data_path = \"/nfs/data3/kaggle_seizure/scratch/Stiched_data/Dog_1/\"\n",
      "feature_extractor = ARFeatures()\n",
      "eeg_data = EEGData(data_path+'Dog_1_ictal_segment_1')\n",
      "instances = eeg_data.get_instances()\n",
      "X = instances[1].eeg_data\n"
     ],
     "language": "python",
     "metadata": {},
     "outputs": []
    },
    {
     "cell_type": "code",
     "collapsed": false,
     "input": [
      "import glob\n",
      "import scipy.io\n",
      "path ='/nfs/data3/kaggle_seizure/clips/Dog_1/'\n",
      "filenames = glob.glob(path+'*')\n",
      "\n",
      "\n",
      "feature_mat = np.zeros((len(filenames),528))\n",
      "labels = np.zeros((len(filenames),1))\n",
      "i=0\n",
      "for filename in filenames:\n",
      "    data = scipy.io.loadmat(filename)['data']\n",
      "    params = VAR(data.T).fit(maxlags=2).params\n",
      "    feature_mat[i,:] = np.hstack(params.reshape( (np.prod(params.shape),1) ))\n",
      "    \n",
      "    if filename.find('interictal')>-1:\n",
      "        labels[i] = 1\n",
      "    elif filename.find('ictal')>-1:\n",
      "        labels[i] = 2\n",
      "    else:\n",
      "        labels[i] = 3\n",
      "    \n",
      "    i+=1"
     ],
     "language": "python",
     "metadata": {},
     "outputs": []
    },
    {
     "cell_type": "code",
     "collapsed": false,
     "input": [
      "import pickle\n",
      "stats_AR = { \"filenames\": filenames,\n",
      "            \"labels\": labels,\n",
      "            \"feature_mat\":feature_mat}\n",
      "#pickle.dump( stats_AR, open( \"save_AR_stats.p\", \"wb\" ))"
     ],
     "language": "python",
     "metadata": {},
     "outputs": []
    },
    {
     "cell_type": "code",
     "collapsed": false,
     "input": [
      "import numpy as np\n",
      "U, s, V = np.linalg.svd(feature_mat, full_matrices=True)"
     ],
     "language": "python",
     "metadata": {},
     "outputs": []
    },
    {
     "cell_type": "code",
     "collapsed": false,
     "input": [
      "from matplotlib import pyplot as plt\n",
      "\n",
      "def I_x(k):\n",
      "    return [i for i in range(len(labels)) if labels[i] == k]\n",
      "\n",
      "\n",
      "plt.scatter(np.dot(feature_mat[I_x(3),:],V[1,:]),\n",
      "            np.dot(feature_mat[I_x(3),:],V[2,:]), c='g')\n",
      "plt.scatter(np.dot(feature_mat[I_x(1),:],V[1,:]),\n",
      "            np.dot(feature_mat[I_x(1),:],V[2,:]), c='r')\n",
      "plt.scatter(np.dot(feature_mat[I_x(2),:],V[1,:]),\n",
      "            np.dot(feature_mat[I_x(2),:],V[2,:]), c='b')\n",
      "\n",
      "#scatter(U[1,I_x(3)], U[2,I_x(3)], c='g')\n",
      "plt.show()"
     ],
     "language": "python",
     "metadata": {},
     "outputs": []
    },
    {
     "cell_type": "code",
     "collapsed": false,
     "input": [
      "import matplotlib.pyplot as plt\n",
      "from mpl_toolkits.mplot3d import Axes3D\n",
      "fig = plt.figure()\n",
      "ax = fig.add_subplot(111, projection='3d')\n",
      "\n",
      "ax.scatter(np.dot(feature_mat[I_x(3),:],V[1,:]),\n",
      "            np.dot(feature_mat[I_x(3),:],V[2,:]),\n",
      "            np.dot(feature_mat[I_x(3),:],V[3,:]), c='g')\n",
      "ax.scatter(np.dot(feature_mat[I_x(1),:],V[1,:]),\n",
      "            np.dot(feature_mat[I_x(1),:],V[2,:]),\n",
      "            np.dot(feature_mat[I_x(1),:],V[3,:]),c='r')\n",
      "ax.scatter(np.dot(feature_mat[I_x(2),:],V[1,:]),\n",
      "            np.dot(feature_mat[I_x(2),:],V[2,:]),\n",
      "            np.dot(feature_mat[I_x(2),:],V[3,:]),c='b')"
     ],
     "language": "python",
     "metadata": {},
     "outputs": []
    },
    {
     "cell_type": "code",
     "collapsed": false,
     "input": [],
     "language": "python",
     "metadata": {},
     "outputs": []
    }
   ],
   "metadata": {}
  }
 ]
}