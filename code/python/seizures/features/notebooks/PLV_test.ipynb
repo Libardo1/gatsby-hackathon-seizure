{
 "metadata": {
  "name": "",
  "signature": "sha256:393169070883c1e916745771769badbecafc4c353cd8d173567c01c6537f5bfc"
 },
 "nbformat": 3,
 "nbformat_minor": 0,
 "worksheets": [
  {
   "cells": [
    {
     "cell_type": "code",
     "collapsed": false,
     "input": [
      "%pylab inline \n",
      "import numpy as np\n",
      "from numpy import unwrap, angle\n",
      "from scipy.signal import hilbert\n",
      "from matplotlib import pyplot as plt\n",
      "\n",
      "\n",
      "N = 400\n",
      "t = np.linspace(0,1,N)\n",
      "\n",
      "f0 = 2000\n",
      "dp = np.pi/3\n",
      "k = 0.9\n",
      "x1 = np.random.random((N,))*k +np.cos(2*np.pi*t*f0)*(1.-k)\n",
      "x2 = np.random.random((N,))*k +np.cos(2*np.pi*t*f0)*(1.-k)\n",
      "#x2 = np.cos(2*np.pi*t*f0 + dp)+np.random.random((N,))*3.\n",
      "\n",
      "u= x1\n",
      "v= x2\n",
      "#We compute the instantaneous phases using Hilbert transform:\n",
      "\n",
      "h1=hilbert(u)\n",
      "h2=hilbert(v)\n",
      "print u.shape, v.shape\n",
      "plt.figure()\n",
      "plt.plot(u)\n",
      "plt.plot(v)\n",
      "plt.title(\"two signals\")\n",
      "plt.show()\n",
      "\n",
      "phase1=unwrap(angle(h1))\n",
      "phase2=unwrap(angle(h2))\n",
      "plt.figure()\n",
      "plt.plot(phase1)\n",
      "plt.plot(phase2)\n",
      "plt.title(\"phases of two signals\")\n",
      "plt.show()\n",
      "\n",
      "#We compute the Phase Locking Value (PLV):\n",
      "\n",
      "n = 1.;\n",
      "m = 1.;\n",
      "RP=n*phase1-m*phase2 # relative phase\n",
      "plt.plot(RP)\n",
      "plt.title(\"relative phase\")\n",
      "plt.show()\n",
      "\n",
      "P_L_V=np.abs(np.sum(np.exp(1j*RP))/len(RP))\n",
      "\n",
      "print P_L_V"
     ],
     "language": "python",
     "metadata": {},
     "outputs": []
    },
    {
     "cell_type": "code",
     "collapsed": false,
     "input": [
      "dp"
     ],
     "language": "python",
     "metadata": {},
     "outputs": []
    },
    {
     "cell_type": "code",
     "collapsed": false,
     "input": [
      "P_L_V"
     ],
     "language": "python",
     "metadata": {},
     "outputs": []
    },
    {
     "cell_type": "code",
     "collapsed": false,
     "input": [],
     "language": "python",
     "metadata": {},
     "outputs": []
    }
   ],
   "metadata": {}
  }
 ]
}