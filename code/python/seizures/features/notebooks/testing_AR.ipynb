{
 "metadata": {
  "name": "",
  "signature": "sha256:ce5aba120f85bb0e350075fb62d8a58ee9d634c077ee6ebfc9013e5db471097d"
 },
 "nbformat": 3,
 "nbformat_minor": 0,
 "worksheets": [
  {
   "cells": [
    {
     "cell_type": "code",
     "collapsed": false,
     "input": [
      "%pylab inline\n",
      "import numpy as np\n",
      "from seizures.features.FeatureExtractBase import FeatureExtractBase\n",
      "from statsmodels.tsa.vector_ar.var_model import VAR\n",
      "from seizures.features.ARFeatures import ARFeatures\n",
      "import scipy.signal\n",
      "from itertools import tee, izip\n",
      "from matplotlib import pyplot as plt\n",
      "\n",
      "from seizures.data.DataLoader import DataLoader, EEGData\n"
     ],
     "language": "python",
     "metadata": {},
     "outputs": []
    },
    {
     "cell_type": "code",
     "collapsed": false,
     "input": [
      "data_path = \"/nfs/data3/kaggle_seizure/scratch/Stiched_data/Dog_1/\"\n",
      "feature_extractor = ARFeatures()\n",
      "eeg_data = EEGData(data_path+'Dog_1_ictal_segment_1')\n",
      "instances = eeg_data.get_instances()\n",
      "X = instances[1].eeg_data\n",
      "print X\n",
      "\n",
      "plt.plot(X.T)"
     ],
     "language": "python",
     "metadata": {},
     "outputs": []
    },
    {
     "cell_type": "code",
     "collapsed": false,
     "input": [
      "params = VAR(instance.eeg_data.T).fit(maxlags=2).params\n",
      "params.reshape( (np.prod(params.shape),1) )"
     ],
     "language": "python",
     "metadata": {},
     "outputs": []
    }
   ],
   "metadata": {}
  }
 ]
}