{
 "metadata": {
  "name": "",
  "signature": "sha256:073e58f4b887471453b920d346f0a854fdf8cdcee7afb41beb9851110b23a08b"
 },
 "nbformat": 3,
 "nbformat_minor": 0,
 "worksheets": [
  {
   "cells": [
    {
     "cell_type": "code",
     "collapsed": false,
     "input": [
      "import glob\n",
      "import pickle\n",
      "import numpy as np\n",
      "from pylab import *\n",
      "from matplotlib import pyplot as plt\n",
      "%matplotlib inline"
     ],
     "language": "python",
     "metadata": {},
     "outputs": [],
     "prompt_number": 16
    },
    {
     "cell_type": "code",
     "collapsed": false,
     "input": [
      "files = glob.glob('*.p')\n",
      "\n",
      "\n",
      "files =[ 'result_detail_Dog_1.p',\n",
      "         'result_detail_Dog_2.p',\n",
      "         'result_detail_Dog_3.p',\n",
      "         'result_detail_Dog_4.p',\n",
      "         'result_detail_Patient_1.p',\n",
      "         'result_detail_Patient_2.p',  \n",
      "         'result_detail_Patient_3.p',\n",
      "         'result_detail_Patient_4.p',\n",
      "         'result_detail_Patient_5.p',\n",
      "         'result_detail_Patient_6.p', \n",
      "         'result_detail_Patient_7.p', \n",
      "         'result_detail_Patient_8.p']\n",
      "\n",
      "\n",
      "features = [\n",
      "        'ARFeatures()',\n",
      "        'VarLagsARFeatures(2)',\n",
      "        'VarLagsARFeatures(3)',\n",
      "        'VarLagsARFeatures(4)',\n",
      "        'VarLagsARFeatures(7)',\n",
      "        'SEFeatures()',\n",
      "        'PLVFeatures()',\n",
      "        'StackFeatures(VarLagsARFeatures(2), PLVFeatures(), SEFeatures())',\n",
      "        'StackFeatures(VarLagsARFeatures(2), SEFeatures())',\n",
      "        'StackFeatures(ARFeatures(), VarLagsARFeatures(2), SEFeatures())',\n",
      "        'StackFeatures(ARFeatures(), VarLagsARFeatures(2), PLVFeatures(), SEFeatures())',\n",
      "        'StackFeatures(VarLagsARFeatures(2), VarLagsARFeatures(4), PLVFeatures(), SEFeatures())'\n",
      "    ]\n",
      "\n",
      "\n",
      "\n",
      "\n",
      "n_subjects = len(files)\n",
      "n_comb = 12\n",
      "n_col = 2\n",
      "\n",
      "Res = np.zeros((n_subjects,n_comb,n_col))\n",
      "\n",
      "\n",
      "for i_f,f in enumerate(files):\n",
      "    print ''\n",
      "    print '---------------------------------'\n",
      "    print f\n",
      "    result_list = pickle.load(open(f,'rb'))\n",
      "    for i_feat,feat in enumerate(result_list):\n",
      "        Res[i_f,i_feat,0] = feat['seizure_auc']\n",
      "        Res[i_f,i_feat,1] = feat['early_auc']\n",
      "        #print feat['feature_extractor']+','+str(feat['seizure_auc'])+','+str(feat['early_auc'])\n",
      "    \n",
      "    for i_feat,feat in enumerate(result_list):\n",
      "        #print features[i_feat], Res[i_f,i_feat,:]\n",
      "        print Res[i_f,i_feat,:], 0.5*(Res[i_f,i_feat,0]+Res[i_f,i_feat,1])\n",
      "\n",
      "print ''\n",
      "print 'Mean and std across subjects, for each feature combination' \n",
      "\n",
      "R_Av = np.mean(Res,axis=0) \n",
      "print R_Av\n",
      "print '+-----------'\n",
      "R_std = np.std(Res,axis=0) \n",
      "print R_std\n",
      "\n",
      "print '+-----------'\n",
      "print 'Mean of predictions, (seizure+early)/2 ,for each feature combination' \n",
      "print np.mean(R_Av,axis=1).T\n",
      "\n",
      "print '+-----------'\n",
      "print 'Mean across features and predictions (early+seizure), for each subject' \n",
      "print np.mean(Res,axis=(1,2))"
     ],
     "language": "python",
     "metadata": {},
     "outputs": [
      {
       "output_type": "stream",
       "stream": "stdout",
       "text": [
        "\n",
        "---------------------------------\n",
        "result_detail_Dog_1.p\n",
        "[ 0.99091787  0.95994213]"
       ]
      },
      {
       "output_type": "stream",
       "stream": "stdout",
       "text": [
        " 0.975430002965\n",
        "[ 0.97911787  0.95774832] 0.968433094075\n",
        "[ 0.98464938  0.96608232] 0.975365850057\n",
        "[ 0.98219278  0.96570874] 0.973950762927\n",
        "[ 0.98090828  0.93713395] 0.959021110481\n",
        "[ 0.97821226  0.95560966] 0.966910959199\n",
        "[ 0.94043061  0.92612223] 0.933276422287\n",
        "[ 0.98320977  0.9553464 ] 0.969278086194\n",
        "[ 0.98206579  0.955557  ] 0.968811397604\n",
        "[ 0.98566533  0.96400634] 0.974835835223\n",
        "[ 0.98554771  0.97719683] 0.981372266897\n",
        "[ 0.99013717  0.96327172] 0.976704448258\n",
        "\n",
        "---------------------------------\n",
        "result_detail_Dog_2.p\n",
        "[ 0.8624424   0.95381031]"
       ]
      },
      {
       "output_type": "stream",
       "stream": "stdout",
       "text": [
        " 0.908126353264\n",
        "[ 0.92543628  0.83468286] 0.880059572109\n",
        "[ 0.94911841  0.86090903] 0.9050137226\n",
        "[ 0.94346824  0.83828863] 0.890878436811\n",
        "[ 0.93148665  0.81245256] 0.871969601729\n",
        "[ 0.9705983   0.96981486] 0.970206583254\n",
        "[ 0.88552423  0.81481423] 0.850169231463\n",
        "[ 0.97830613  0.98130166] 0.979803895427\n",
        "[ 0.97136631  0.98245087] 0.976908590053\n",
        "[ 0.9768985   0.97910341] 0.978000955204\n",
        "[ 0.98119309  0.97639381] 0.978793451268\n",
        "[ 0.97610736  0.96851278] 0.972310070975\n",
        "\n",
        "---------------------------------\n",
        "result_detail_Dog_3.p\n",
        "[ 0.96571808  0.88878381]"
       ]
      },
      {
       "output_type": "stream",
       "stream": "stdout",
       "text": [
        " 0.927250942976\n",
        "[ 0.98153773  0.9036343 ] 0.942586011202\n",
        "[ 0.98016362  0.90407365] 0.942118634175\n",
        "[ 0.97889695  0.89967868] 0.939287816853\n",
        "[ 0.97510496  0.89854278] 0.936823874027\n",
        "[ 0.98355396  0.9287057 ] 0.956129832286\n",
        "[ 0.97009231  0.91786911] 0.943980709795\n",
        "[ 0.98374537  0.9358344 ] 0.959789885593\n",
        "[ 0.98135836  0.93655937] 0.958958863537\n",
        "[ 0.98109965  0.93014179] 0.955620720683\n",
        "[ 0.98647475  0.9335677 ] 0.960021224556\n",
        "[ 0.98258891  0.94313943] 0.962864168641\n",
        "\n",
        "---------------------------------\n",
        "result_detail_Dog_4.p\n",
        "[ 0.84479806  0.95535374]"
       ]
      },
      {
       "output_type": "stream",
       "stream": "stdout",
       "text": [
        " 0.900075897927\n",
        "[ 0.94400831  0.99307528] 0.968541798609\n",
        "[ 0.83053412  0.99521392] 0.912874017338\n",
        "[ 0.82492137  0.99379346] 0.909357416668\n",
        "[ 0.74513197  0.99074319] 0.867937582721\n",
        "[ 0.91690613  0.99703454] 0.956970333529\n",
        "[ 0.90749013  0.89197125] 0.899730689928\n",
        "[ 0.95876966  0.99693383] 0.977851744671\n",
        "[ 0.91604572  0.99737905] 0.956712385779\n",
        "[ 0.91962037  0.99777126] 0.95869581579\n",
        "[ 0.88093384  0.99828008] 0.939606962657\n",
        "[ 0.87662487  0.994721  ] 0.935672933697\n",
        "\n",
        "---------------------------------\n",
        "result_detail_Patient_1.p\n",
        "[ 0.97802991  0.97988509]"
       ]
      },
      {
       "output_type": "stream",
       "stream": "stdout",
       "text": [
        " 0.978957503812\n",
        "[ 0.97337501  0.95785297] 0.965613992438\n",
        "[ 0.98046308  0.95136491] 0.965913994441\n",
        "[ 0.9748746   0.94864462] 0.961759608632\n",
        "[ 0.89766865  0.79158837] 0.844628508165\n",
        "[ 0.98738525  0.92481907] 0.956102162274\n",
        "[ 0.73546767  0.6690452 ] 0.702256435018\n",
        "[ 0.98612638  0.96115096] 0.973638673313\n",
        "[ 0.98845546  0.98251016] 0.985482807741\n",
        "[ 0.98904586  0.98404647] 0.986546164837\n",
        "[ 0.98837576  0.9698578 ] 0.979116778914\n",
        "[ 0.98925892  0.98246889] 0.985863908585\n",
        "\n",
        "---------------------------------\n",
        "result_detail_Patient_2.p\n",
        "[ 0.98647587  0.95137846]"
       ]
      },
      {
       "output_type": "stream",
       "stream": "stdout",
       "text": [
        " 0.96892716666\n",
        "[ 0.99242422  0.96282278] 0.977623503865\n",
        "[ 0.98253871  0.93429461] 0.958416660191\n",
        "[ 0.98047866  0.94104409] 0.960761372424\n",
        "[ 0.97857652  0.91483783] 0.946707176156\n",
        "[ 0.99310475  0.97514446] 0.984124603915\n",
        "[ 0.8794848   0.86337001] 0.871427403596\n",
        "[ 0.99457188  0.9902961 ] 0.9924339858\n",
        "[ 0.99275078  0.98000253] 0.986376655932\n",
        "[ 0.99250706  0.97438545] 0.98344625107\n",
        "[ 0.9961415   0.98789664] 0.992019070572\n",
        "[ 0.99246951  0.97897011] 0.985719813156\n",
        "\n",
        "---------------------------------\n",
        "result_detail_Patient_3.p\n",
        "[ 0.9467943  0.6721254]"
       ]
      },
      {
       "output_type": "stream",
       "stream": "stdout",
       "text": [
        " 0.809459849301\n",
        "[ 0.88658312  0.74333934] 0.814961229634\n",
        "[ 0.78433228  0.68495843] 0.734645354442\n",
        "[ 0.80751885  0.73692909] 0.77222396981\n",
        "[ 0.76163398  0.702812  ] 0.732222989074\n",
        "[ 0.80226305  0.47281901] 0.637541029188\n",
        "[ 0.57721965  0.51720252] 0.54721108461\n",
        "[ 0.84196981  0.70070863] 0.771339220878\n",
        "[ 0.85523817  0.75550881] 0.805373493423\n",
        "[ 0.90315077  0.72081581] 0.811983287844\n",
        "[ 0.91670397  0.69984475] 0.808274358766\n",
        "[ 0.85208808  0.6784981 ] 0.765293088734\n",
        "\n",
        "---------------------------------\n",
        "result_detail_Patient_4.p\n",
        "[ 0.76091463  0.72573171]"
       ]
      },
      {
       "output_type": "stream",
       "stream": "stdout",
       "text": [
        " 0.743323170732\n",
        "[ 0.69317073  0.6852439 ] 0.689207317073\n",
        "[ 0.59235772  0.57623984] 0.584298780488\n",
        "[ 0.60676829  0.57930894] 0.593038617886\n",
        "[ 0.71351626  0.74593496] 0.729725609756\n",
        "[ 0.71310976  0.7054065 ] 0.709258130081\n",
        "[ 0.69443089  0.69002033] 0.692225609756\n",
        "[ 0.70404472  0.72603659] 0.715040650407\n",
        "[ 0.65853659  0.6575    ] 0.658018292683\n",
        "[ 0.71152439  0.75115854] 0.731341463415\n",
        "[ 0.73567073  0.76851626] 0.752093495935\n",
        "[ 0.63223577  0.65235772] 0.642296747967\n",
        "\n",
        "---------------------------------\n",
        "result_detail_Patient_5.p\n",
        "[ 0.95740889  0.9039552 ]"
       ]
      },
      {
       "output_type": "stream",
       "stream": "stdout",
       "text": [
        " 0.93068204083\n",
        "[ 0.93074361  0.86122315] 0.895983380744\n",
        "[ 0.94061565  0.88687521] 0.913745431924\n",
        "[ 0.9479996   0.89868089] 0.923340245573\n",
        "[ 0.9573793   0.87163268] 0.914505992835\n",
        "[ 0.92967971  0.83223051] 0.880955107883\n",
        "[ 0.8517219   0.63372186] 0.742721882137\n",
        "[ 0.92650595  0.88168382] 0.904094885011\n",
        "[ 0.93360887  0.8337684 ] 0.883688636271\n",
        "[ 0.93878049  0.89366869] 0.916224591563\n",
        "[ 0.9427329   0.89118934] 0.916961118664\n",
        "[ 0.94222683  0.87344873] 0.90783778096\n",
        "\n",
        "---------------------------------\n",
        "result_detail_Patient_6.p\n",
        "[ 0.99671699  0.95471574]"
       ]
      },
      {
       "output_type": "stream",
       "stream": "stdout",
       "text": [
        " 0.975716367077\n",
        "[ 0.99814154  0.96240567] 0.980273606156\n",
        "[ 0.99730482  0.90927428] 0.953289550021\n",
        "[ 0.9979254   0.89825631] 0.948090854607\n",
        "[ 0.99668424  0.91613553] 0.956409885953\n",
        "[ 0.99937287  0.98233927] 0.990856072449\n",
        "[ 0.84250639  0.80156197] 0.822034176496\n",
        "[ 0.99939989  0.98025026] 0.989825072227\n",
        "[ 0.9996062   0.97643993] 0.988023066298\n",
        "[ 0.99963895  0.98224601] 0.99094248228\n",
        "[ 0.99962831  0.97337835] 0.986503327132\n",
        "[ 0.99974784  0.97041002] 0.985078930819\n",
        "\n",
        "---------------------------------\n",
        "result_detail_Patient_7.p\n",
        "[ 0.99464549  0.90757848]"
       ]
      },
      {
       "output_type": "stream",
       "stream": "stdout",
       "text": [
        " 0.951111983656\n",
        "[ 0.99740398  0.91633235] 0.956868163013\n",
        "[ 0.9965162   0.92718891] 0.961852555681\n",
        "[ 0.99634131  0.94320981] 0.969775558979\n",
        "[ 0.99481996  0.94404561] 0.969432783478\n",
        "[ 0.99985425  0.94868208] 0.974268166459\n",
        "[ 0.96991984  0.64972199] 0.809820913216\n",
        "[ 0.99975437  0.96445664] 0.982105508286\n",
        "[ 0.99970722  0.95316312] 0.976435171427\n",
        "[ 0.99978995  0.95484645] 0.9773182\n",
        "[ 0.99981096  0.95364114] 0.976726048966\n",
        "[ 0.99974323  0.9416262 ] 0.970684711766\n",
        "\n",
        "---------------------------------\n",
        "result_detail_Patient_8.p\n",
        "[ 0.97885155  0.86207153]"
       ]
      },
      {
       "output_type": "stream",
       "stream": "stdout",
       "text": [
        " 0.92046154329\n",
        "[ 0.9779102   0.79962116] 0.888765683427\n",
        "[ 0.97636575  0.77631187] 0.876338812699\n",
        "[ 0.96335918  0.79712315] 0.880241163858\n",
        "[ 0.96941892  0.7878259 ] 0.878622408139\n",
        "[ 0.97618227  0.68273557] 0.829458922552\n",
        "[ 0.91947635  0.69252912] 0.80600273526\n",
        "[ 0.98075818  0.67730115] 0.829029668177\n",
        "[ 0.98273661  0.74228262] 0.862509618388\n",
        "[ 0.97686674  0.71926284] 0.848064790366\n",
        "[ 0.97690025  0.71335693] 0.845128591893\n",
        "[ 0.97729753  0.7139773 ] 0.84563741648\n",
        "\n",
        "Mean and std across subjects, for each feature combination\n",
        "[[ 0.93864284  0.8929443 ]\n",
        " [ 0.93998772  0.88149851]\n",
        " [ 0.91624665  0.86439891]\n",
        " [ 0.9170621   0.87005553]\n",
        " [ 0.90852747  0.85947378]\n",
        " [ 0.93751855  0.86461177]\n",
        " [ 0.84781373  0.75566248]\n",
        " [ 0.94476351  0.8959417 ]\n",
        " [ 0.93845634  0.89609349]\n",
        " [ 0.94788234  0.90428775]\n",
        " [ 0.94917615  0.9035933 ]\n",
        " [ 0.9342105   0.88845017]]\n",
        "+-----------\n",
        "[[ 0.07190851  0.09349873]\n",
        " [ 0.0813032   0.0939268 ]\n",
        " [ 0.11734462  0.11935321]\n",
        " [ 0.111364    0.11258497]\n",
        " [ 0.10117678  0.0855141 ]\n",
        " [ 0.08601951  0.15565386]\n",
        " [ 0.11509935  0.12579995]\n",
        " [ 0.0839945   0.116388  ]\n",
        " [ 0.09377767  0.11230313]\n",
        " [ 0.07747016  0.10405832]\n",
        " [ 0.07342625  0.10628469]\n",
        " [ 0.10222827  0.12361112]]\n",
        "+-----------\n",
        "Mean of predictions, (seizure+early)/2 ,for each feature combination\n",
        "[ 0.91579357  0.91074311  0.89032278  0.89355882  0.88400063  0.90106516\n",
        "  0.80173811  0.92035261  0.91727491  0.92608505  0.92638472  0.91133034]\n",
        "+-----------\n",
        "Mean across features and predictions (early+seizure), for each subject\n",
        "[ 0.96861585  0.93018671  0.94878606  0.9320023   0.94049004  0.96733197\n",
        "  0.75087741  0.68665566  0.89422842  0.96392028  0.95636665  0.85918845]\n"
       ]
      }
     ],
     "prompt_number": 2
    },
    {
     "cell_type": "code",
     "collapsed": false,
     "input": [
      "print 'Mean and std across subjects, for each feature combination' \n",
      "\n",
      "Rs_Av = np.mean(Res[:,:,0],axis=0) #seizure\n",
      "Rs_std = np.std(Res[:,:,0],axis=0) \n",
      "\n",
      "Re_Av = np.mean(Res[:,:,1],axis=0) #early\n",
      "Re_std = np.std(Res[:,:,1],axis=0) \n",
      "\n",
      "print '\\n', Rs_Av\n",
      "print '\\n', Rs_std\n",
      "print '\\n', Re_Av\n",
      "print '\\n', Re_std\n"
     ],
     "language": "python",
     "metadata": {},
     "outputs": [
      {
       "output_type": "stream",
       "stream": "stdout",
       "text": [
        "Mean and std across subjects, for each feature combination\n",
        "\n",
        "[ 0.93864284  0.93998772  0.91624665  0.9170621   0.90852747  0.93751855\n",
        "  0.84781373  0.94476351  0.93845634  0.94788234  0.94917615  0.9342105 ]\n",
        "\n",
        "[ 0.07190851  0.0813032   0.11734462  0.111364    0.10117678  0.08601951\n",
        "  0.11509935  0.0839945   0.09377767  0.07747016  0.07342625  0.10222827]\n",
        "\n",
        "[ 0.8929443   0.88149851  0.86439891  0.87005553  0.85947378  0.86461177\n",
        "  0.75566248  0.8959417   0.89609349  0.90428775  0.9035933   0.88845017]\n",
        "\n",
        "[ 0.09349873  0.0939268   0.11935321  0.11258497  0.0855141   0.15565386\n",
        "  0.12579995  0.116388    0.11230313  0.10405832  0.10628469  0.12361112]\n"
       ]
      }
     ],
     "prompt_number": 3
    },
    {
     "cell_type": "code",
     "collapsed": false,
     "input": [
      "figure()\n",
      "boxplot(Res[:,:,0])\n",
      "title('Seizure detection performance across subjects for different feature combinations')\n",
      "ylabel('P_seizure')\n",
      "xlabel('Features')\n",
      "\n",
      "show()"
     ],
     "language": "python",
     "metadata": {},
     "outputs": [
      {
       "metadata": {},
       "output_type": "display_data",
       "png": "[encoded data removed]",
       "text": [
        "<matplotlib.figure.Figure at 0x7f81d8b81a90>"
       ]
      }
     ],
     "prompt_number": 17
    },
    {
     "cell_type": "code",
     "collapsed": false,
     "input": [
      "figure()\n",
      "boxplot(Res[:,:,1])\n",
      "title('Early seizure detection performance across subjects for different feature combinations')\n",
      "ylabel('P_early')\n",
      "xlabel('Features')\n",
      "\n",
      "show()"
     ],
     "language": "python",
     "metadata": {},
     "outputs": [
      {
       "metadata": {},
       "output_type": "display_data",
       "png": "[encoded data removed]",
       "text": [
        "<matplotlib.figure.Figure at 0x7f81dd4935d0>"
       ]
      }
     ],
     "prompt_number": 18
    }
   ],
   "metadata": {}
  }
 ]
}