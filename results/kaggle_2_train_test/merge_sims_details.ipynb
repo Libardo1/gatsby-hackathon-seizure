{
 "cells": [
  {
   "cell_type": "code",
   "execution_count": 1,
   "metadata": {
    "collapsed": false
   },
   "outputs": [],
   "source": [
    "import glob\n",
    "import pickle\n",
    "import numpy as np\n",
    "from seizures.evaluation.performance_measures import auc\n"
   ]
  },
  {
   "cell_type": "code",
   "execution_count": 1,
   "metadata": {
    "collapsed": false
   },
   "outputs": [
    {
     "ename": "IndentationError",
     "evalue": "unexpected indent (<ipython-input-1-5e5815e3fd70>, line 54)",
     "output_type": "error",
     "traceback": [
      "\u001b[0;36m  File \u001b[0;32m\"<ipython-input-1-5e5815e3fd70>\"\u001b[0;36m, line \u001b[0;32m54\u001b[0m\n\u001b[0;31m    print features[feat_index]\u001b[0m\n\u001b[0m    ^\u001b[0m\n\u001b[0;31mIndentationError\u001b[0m\u001b[0;31m:\u001b[0m unexpected indent\n"
     ]
    }
   ],
   "source": [
    "# reproducing kaggle score\n",
    "\n",
    "files = glob.glob('*.p')\n",
    "\n",
    "\n",
    "files =[ 'result_detail_Dog_1.p',\n",
    "         'result_detail_Dog_2.p',\n",
    "         'result_detail_Dog_3.p',\n",
    "         'result_detail_Dog_4.p',\n",
    "         'result_detail_Patient_1.p',\n",
    "         'result_detail_Patient_2.p',  \n",
    "         'result_detail_Patient_3.p',\n",
    "         'result_detail_Patient_4.p',\n",
    "         'result_detail_Patient_5.p',\n",
    "         'result_detail_Patient_6.p', \n",
    "         'result_detail_Patient_7.p', \n",
    "         'result_detail_Patient_8.p']\n",
    "\n",
    "\n",
    "features = [\n",
    "        'ARFeatures()',\n",
    "        'VarLagsARFeatures(2)',\n",
    "        'VarLagsARFeatures(3)',\n",
    "        'VarLagsARFeatures(4)',\n",
    "        'VarLagsARFeatures(7)',\n",
    "        'SEFeatures()',\n",
    "        'PLVFeatures()',\n",
    "        'StackFeatures(VarLagsARFeatures(2), PLVFeatures(), SEFeatures())',\n",
    "        'StackFeatures(VarLagsARFeatures(2), SEFeatures())',\n",
    "        'StackFeatures(ARFeatures(), VarLagsARFeatures(2), SEFeatures())',\n",
    "        'StackFeatures(ARFeatures(), VarLagsARFeatures(2), PLVFeatures(), SEFeatures())',\n",
    "        'StackFeatures(VarLagsARFeatures(2), VarLagsARFeatures(4), PLVFeatures(), SEFeatures())']\n",
    "\n",
    "\n",
    "keys = [ 'y_early_true',\n",
    "         'seizure_auc',\n",
    "         'early_auc',\n",
    "         'y_seizure_pred',\n",
    "         'filenames',\n",
    "         'y_seizure_true',\n",
    "         'predictor', \n",
    "         'feature_extractor', \n",
    "         'y_early_pred']\n",
    "\n",
    "files = [f for f in files if 'detail' in f]\n",
    "\n",
    "Y_true_seizure = []\n",
    "Y_pred_seizure = []\n",
    "Y_true_early = []\n",
    "Y_pred_early = []\n",
    "\n",
    "for feat_index in range(12):\n",
    "    print features[feat_index]\n",
    "    for f in files:\n",
    "        result_list = pickle.load(open(f,'rb'))\n",
    "        Y_true_seizure+=result_list[feat_index]['y_seizure_true'].tolist()\n",
    "        Y_pred_seizure+=result_list[feat_index]['y_seizure_pred'].tolist()\n",
    "        Y_true_early+=result_list[feat_index]['y_early_true'].tolist()\n",
    "        Y_pred_early+=result_list[feat_index]['y_early_pred'].tolist()\n",
    "    auc_seizure = auc(np.array(Y_true_seizure),np.array(Y_pred_seizure))\n",
    "    auc_early = auc(np.array(Y_true_early),np.array(Y_pred_early))\n",
    "    \n",
    "    print 0.5*(auc_seizure+auc_early),[auc_seizure,auc_early]\n",
    "\n"
   ]
  },
  {
   "cell_type": "code",
   "execution_count": null,
   "metadata": {
    "collapsed": true
   },
   "outputs": [],
   "source": []
  }
 ],
 "metadata": {
  "kernelspec": {
   "display_name": "Python 2",
   "language": "python",
   "name": "python2"
  },
  "language_info": {
   "codemirror_mode": {
    "name": "ipython",
    "version": 2
   },
   "file_extension": ".py",
   "mimetype": "text/x-python",
   "name": "python",
   "nbconvert_exporter": "python",
   "pygments_lexer": "ipython2",
   "version": "2.7.9"
  }
 },
 "nbformat": 4,
 "nbformat_minor": 0
}
