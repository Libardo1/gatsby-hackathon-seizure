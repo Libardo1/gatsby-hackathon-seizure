{
 "metadata": {
  "signature": "sha256:09ba92e13f08bcc2594598d827e048ca2c841eaf5d2db25d365cbfb261bca0d2"
 },
 "nbformat": 3,
 "nbformat_minor": 0,
 "worksheets": [
  {
   "cells": [
    {
     "cell_type": "heading",
     "level": 1,
     "metadata": {},
     "source": [
      "Compare many feature extractors on one patient dataset"
     ]
    },
    {
     "cell_type": "code",
     "collapsed": false,
     "input": [
      "import matplotlib.pyplot as plt\n",
      "import numpy as np\n",
      "import scipy.io\n",
      "import os\n",
      "from seizures.Global import Global\n",
      "\n",
      "from seizures.features.ARFeatures import *\n",
      "from seizures.features.MixFeatures import StackFeatures\n",
      "from seizures.features.PLVFeatures import PLVFeatures\n",
      "from seizures.features.XCHUHFeatures import XCHUHFeatures\n",
      "from seizures.features.SEFeatures import SEFeatures\n",
      "from seizures.features.StatsFeatures import StatsFeatures\n",
      "from seizures.prediction.ForestPredictor import ForestPredictor\n",
      "from seizures.prediction.Boosting import AdaBoostTrees\n",
      "from seizures.pipelines.FeaturePredictorTest import CVFeaturesPredictorsTester\n",
      "from seizures.pipelines.FeaturePredictorTest import CachedCVFeaPredTester\n",
      "\n",
      "\n",
      "feature_extractors = [\n",
      "    ARFeatures(),\n",
      "    VarLagsARFeatures(2),\n",
      "    VarLagsARFeatures(3),\n",
      "    VarLagsARFeatures(4),\n",
      "    VarLagsARFeatures(6),\n",
      "    SEFeatures(),\n",
      "    PLVFeatures(),\n",
      "    StackFeatures(VarLagsARFeatures(2), PLVFeatures(), SEFeatures()),\n",
      "    StackFeatures(VarLagsARFeatures(2), SEFeatures()),\n",
      "    StackFeatures(ARFeatures(),VarLagsARFeatures(2), SEFeatures()),\n",
      "    StackFeatures(ARFeatures(), VarLagsARFeatures(2), PLVFeatures(), SEFeatures()),\n",
      "    StackFeatures(VarLagsARFeatures(2), VarLagsARFeatures(4), PLVFeatures(), SEFeatures()), \n",
      "    StackFeatures(VarLagsARFeatures(2), VarLagsARFeatures(6), PLVFeatures(), SEFeatures()), \n",
      "]\n",
      "\n",
      "predictors = [ ForestPredictor(n_estimators=100, max_features=0.2)]\n",
      "patient = 'Dog_4'\n",
      "#patient = 'Patient_2'\n",
      "\n",
      "clips_folder = Global.path_map('clips_folder')\n",
      "\n",
      "tester = CachedCVFeaPredTester(feature_extractors, predictors, patient, data_path=clips_folder)\n",
      "#tester = CVFeaturesPredictorsTester(feature_extractors, predictors, patient)\n",
      "\n",
      "# randomly select subsamples of total segments (ictal + interictal)\n",
      "max_segments=300\n",
      "\n",
      "table = tester.test_combination(fold=2, max_segments=max_segments)"
     ],
     "language": "python",
     "metadata": {},
     "outputs": [
      {
       "output_type": "stream",
       "stream": "stdout",
       "text": [
        "2790 interictal segments for Dog_4\n",
        "257 ictal segments for Dog_4\n",
        "subsampling from 3047 segments to 300\n",
        "0.0  percent complete         \r",
        "0.333333333333  percent complete         \r",
        "0.666666666667"
       ]
      },
      {
       "output_type": "stream",
       "stream": "stdout",
       "text": [
        "  percent complete         \r",
        "1.0"
       ]
      },
      {
       "output_type": "stream",
       "stream": "stdout",
       "text": [
        "  percent complete         \r",
        "1.33333333333  percent complete         \r",
        "1.66666666667"
       ]
      },
      {
       "output_type": "stream",
       "stream": "stdout",
       "text": [
        "  percent complete         \r",
        "2.0"
       ]
      },
      {
       "output_type": "stream",
       "stream": "stdout",
       "text": [
        "  percent complete         \r",
        "2.33333333333  percent complete         \r",
        "2.66666666667"
       ]
      },
      {
       "output_type": "stream",
       "stream": "stdout",
       "text": [
        "  percent complete         \r",
        "3.0  percent complete         \r",
        "3.33333333333"
       ]
      },
      {
       "output_type": "stream",
       "stream": "stdout",
       "text": [
        "  percent complete         \r",
        "3.66666666667"
       ]
      },
      {
       "output_type": "stream",
       "stream": "stdout",
       "text": [
        "  percent complete         \r",
        "4.0"
       ]
      },
      {
       "output_type": "stream",
       "stream": "stdout",
       "text": [
        "  percent complete         \r",
        "4.33333333333  percent complete         \r",
        "4.66666666667"
       ]
      },
      {
       "output_type": "stream",
       "stream": "stdout",
       "text": [
        "  percent complete         \r",
        "5.0  percent complete         \r",
        "5.33333333333"
       ]
      },
      {
       "output_type": "stream",
       "stream": "stdout",
       "text": [
        "  percent complete         \r",
        "5.66666666667  percent complete         \r",
        "6.0"
       ]
      },
      {
       "output_type": "stream",
       "stream": "stdout",
       "text": [
        "  percent complete         \r",
        "6.33333333333  percent complete         \r",
        "6.66666666667"
       ]
      },
      {
       "output_type": "stream",
       "stream": "stdout",
       "text": [
        "  percent complete         \r",
        "7.0"
       ]
      },
      {
       "output_type": "stream",
       "stream": "stdout",
       "text": [
        "  percent complete         \r",
        "7.33333333333"
       ]
      },
      {
       "output_type": "stream",
       "stream": "stdout",
       "text": [
        "  percent complete         \r",
        "7.66666666667  percent complete         \r",
        "8.0"
       ]
      },
      {
       "output_type": "stream",
       "stream": "stdout",
       "text": [
        "  percent complete         \r",
        "8.33333333333  percent complete         \r",
        "8.66666666667"
       ]
      },
      {
       "output_type": "stream",
       "stream": "stdout",
       "text": [
        "  percent complete         \r",
        "9.0  percent complete         \r",
        "9.33333333333"
       ]
      },
      {
       "output_type": "stream",
       "stream": "stdout",
       "text": [
        "  percent complete         \r",
        "9.66666666667"
       ]
      },
      {
       "output_type": "stream",
       "stream": "stdout",
       "text": [
        "  percent complete         \r",
        "10.0"
       ]
      },
      {
       "output_type": "stream",
       "stream": "stdout",
       "text": [
        "  percent complete         \r",
        "10.3333333333  percent complete         \r",
        "10.6666666667"
       ]
      },
      {
       "output_type": "stream",
       "stream": "stdout",
       "text": [
        "  percent complete         \r",
        "11.0"
       ]
      },
      {
       "output_type": "stream",
       "stream": "stdout",
       "text": [
        "  percent complete         \r",
        "11.3333333333"
       ]
      },
      {
       "output_type": "stream",
       "stream": "stdout",
       "text": [
        "  percent complete         \r",
        "11.6666666667"
       ]
      },
      {
       "output_type": "stream",
       "stream": "stdout",
       "text": [
        "  percent complete         \r",
        "12.0  percent complete         \r",
        "12.3333333333"
       ]
      },
      {
       "output_type": "stream",
       "stream": "stdout",
       "text": [
        "  percent complete         \r",
        "12.6666666667  percent complete         \r",
        "13.0"
       ]
      },
      {
       "output_type": "stream",
       "stream": "stdout",
       "text": [
        "  percent complete         \r",
        "13.3333333333  percent complete         \r",
        "13.6666666667"
       ]
      },
      {
       "output_type": "stream",
       "stream": "stdout",
       "text": [
        "  percent complete         \r",
        "14.0  percent complete         \r",
        "14.3333333333"
       ]
      },
      {
       "output_type": "stream",
       "stream": "stdout",
       "text": [
        "  percent complete         \r",
        "14.6666666667"
       ]
      },
      {
       "output_type": "stream",
       "stream": "stdout",
       "text": [
        "  percent complete         \r",
        "15.0  percent complete         \r",
        "15.3333333333"
       ]
      },
      {
       "output_type": "stream",
       "stream": "stdout",
       "text": [
        "  percent complete         \r",
        "15.6666666667"
       ]
      },
      {
       "output_type": "stream",
       "stream": "stdout",
       "text": [
        "  percent complete         \r",
        "16.0"
       ]
      },
      {
       "output_type": "stream",
       "stream": "stdout",
       "text": [
        "  percent complete         \r",
        "16.3333333333  percent complete         \r",
        "16.6666666667"
       ]
      },
      {
       "output_type": "stream",
       "stream": "stdout",
       "text": [
        "  percent complete         \r",
        "17.0  percent complete         \r",
        "17.3333333333"
       ]
      },
      {
       "output_type": "stream",
       "stream": "stdout",
       "text": [
        "  percent complete         \r",
        "17.6666666667  percent complete         \r",
        "18.0"
       ]
      },
      {
       "output_type": "stream",
       "stream": "stdout",
       "text": [
        "  percent complete         \r",
        "18.3333333333"
       ]
      },
      {
       "output_type": "stream",
       "stream": "stdout",
       "text": [
        "  percent complete         \r",
        "18.6666666667  percent complete         \r",
        "19.0"
       ]
      },
      {
       "output_type": "stream",
       "stream": "stdout",
       "text": [
        "  percent complete         \r",
        "19.3333333333  percent complete         \r",
        "19.6666666667"
       ]
      },
      {
       "output_type": "stream",
       "stream": "stdout",
       "text": [
        "  percent complete         \r",
        "20.0  percent complete         \r",
        "20.3333333333"
       ]
      },
      {
       "output_type": "stream",
       "stream": "stdout",
       "text": [
        "  percent complete         \r",
        "20.6666666667  percent complete         \r",
        "21.0"
       ]
      },
      {
       "output_type": "stream",
       "stream": "stdout",
       "text": [
        "  percent complete         \r",
        "21.3333333333  percent complete         \r",
        "21.6666666667"
       ]
      },
      {
       "output_type": "stream",
       "stream": "stdout",
       "text": [
        "  percent complete         \r",
        "22.0  percent complete         \r",
        "22.3333333333"
       ]
      },
      {
       "output_type": "stream",
       "stream": "stdout",
       "text": [
        "  percent complete         \r",
        "22.6666666667  percent complete         \r",
        "23.0"
       ]
      },
      {
       "output_type": "stream",
       "stream": "stdout",
       "text": [
        "  percent complete         \r",
        "23.3333333333  percent complete         \r",
        "23.6666666667  percent complete         \r",
        "24.0"
       ]
      },
      {
       "output_type": "stream",
       "stream": "stdout",
       "text": [
        "  percent complete         \r",
        "24.3333333333  percent complete         \r",
        "24.6666666667"
       ]
      },
      {
       "output_type": "stream",
       "stream": "stdout",
       "text": [
        "  percent complete         \r",
        "25.0  percent complete         \r",
        "25.3333333333"
       ]
      },
      {
       "output_type": "stream",
       "stream": "stdout",
       "text": [
        "  percent complete         \r",
        "25.6666666667"
       ]
      },
      {
       "output_type": "stream",
       "stream": "stdout",
       "text": [
        "  percent complete         \r",
        "26.0  percent complete         \r",
        "26.3333333333"
       ]
      },
      {
       "output_type": "stream",
       "stream": "stdout",
       "text": [
        "  percent complete         \r",
        "26.6666666667"
       ]
      },
      {
       "output_type": "stream",
       "stream": "stdout",
       "text": [
        "  percent complete         \r",
        "27.0  percent complete         \r",
        "27.3333333333"
       ]
      },
      {
       "output_type": "stream",
       "stream": "stdout",
       "text": [
        "  percent complete         \r",
        "27.6666666667  percent complete         \r",
        "28.0"
       ]
      },
      {
       "output_type": "stream",
       "stream": "stdout",
       "text": [
        "  percent complete         \r",
        "28.3333333333"
       ]
      },
      {
       "output_type": "stream",
       "stream": "stdout",
       "text": [
        "  percent complete         \r",
        "28.6666666667"
       ]
      },
      {
       "output_type": "stream",
       "stream": "stdout",
       "text": [
        "  percent complete         \r",
        "29.0"
       ]
      },
      {
       "output_type": "stream",
       "stream": "stdout",
       "text": [
        "  percent complete         \r",
        "29.3333333333  percent complete         \r",
        "29.6666666667"
       ]
      },
      {
       "output_type": "stream",
       "stream": "stdout",
       "text": [
        "  percent complete         \r",
        "30.0  percent complete         \r",
        "30.3333333333"
       ]
      },
      {
       "output_type": "stream",
       "stream": "stdout",
       "text": [
        "  percent complete         \r",
        "30.6666666667"
       ]
      },
      {
       "output_type": "stream",
       "stream": "stdout",
       "text": [
        "  percent complete         \r",
        "31.0  percent complete         \r",
        "31.3333333333"
       ]
      },
      {
       "output_type": "stream",
       "stream": "stdout",
       "text": [
        "  percent complete         \r",
        "31.6666666667  percent complete         \r",
        "32.0"
       ]
      },
      {
       "output_type": "stream",
       "stream": "stdout",
       "text": [
        "  percent complete         \r",
        "32.3333333333  percent complete         \r",
        "32.6666666667  percent complete         \r",
        "33.0"
       ]
      },
      {
       "output_type": "stream",
       "stream": "stdout",
       "text": [
        "  percent complete         \r",
        "33.3333333333"
       ]
      },
      {
       "output_type": "stream",
       "stream": "stdout",
       "text": [
        "  percent complete         \r",
        "33.6666666667  percent complete         \r",
        "34.0"
       ]
      },
      {
       "output_type": "stream",
       "stream": "stdout",
       "text": [
        "  percent complete         \r",
        "34.3333333333  percent complete         \r",
        "34.6666666667"
       ]
      },
      {
       "output_type": "stream",
       "stream": "stdout",
       "text": [
        "  percent complete         \r",
        "35.0  percent complete         \r",
        "35.3333333333"
       ]
      },
      {
       "output_type": "stream",
       "stream": "stdout",
       "text": [
        "  percent complete         \r",
        "35.6666666667  percent complete         \r",
        "36.0"
       ]
      },
      {
       "output_type": "stream",
       "stream": "stdout",
       "text": [
        "  percent complete         \r",
        "36.3333333333  percent complete         \r",
        "36.6666666667"
       ]
      },
      {
       "output_type": "stream",
       "stream": "stdout",
       "text": [
        "  percent complete         \r",
        "37.0  percent complete         \r",
        "37.3333333333"
       ]
      },
      {
       "output_type": "stream",
       "stream": "stdout",
       "text": [
        "  percent complete         \r",
        "37.6666666667"
       ]
      },
      {
       "output_type": "stream",
       "stream": "stdout",
       "text": [
        "  percent complete         \r",
        "38.0"
       ]
      },
      {
       "output_type": "stream",
       "stream": "stdout",
       "text": [
        "  percent complete         \r",
        "38.3333333333"
       ]
      },
      {
       "output_type": "stream",
       "stream": "stdout",
       "text": [
        "  percent complete         \r",
        "38.6666666667"
       ]
      },
      {
       "output_type": "stream",
       "stream": "stdout",
       "text": [
        "  percent complete         \r",
        "39.0  percent complete         \r",
        "39.3333333333"
       ]
      },
      {
       "output_type": "stream",
       "stream": "stdout",
       "text": [
        "  percent complete         \r",
        "39.6666666667  percent complete         \r",
        "40.0"
       ]
      },
      {
       "output_type": "stream",
       "stream": "stdout",
       "text": [
        "  percent complete         \r",
        "40.3333333333  percent complete         \r",
        "40.6666666667"
       ]
      },
      {
       "output_type": "stream",
       "stream": "stdout",
       "text": [
        "  percent complete         \r",
        "41.0  percent complete         \r",
        "41.3333333333"
       ]
      },
      {
       "output_type": "stream",
       "stream": "stdout",
       "text": [
        "  percent complete         \r",
        "41.6666666667"
       ]
      },
      {
       "output_type": "stream",
       "stream": "stdout",
       "text": [
        "  percent complete         \r",
        "42.0  percent complete         \r",
        "42.3333333333"
       ]
      },
      {
       "output_type": "stream",
       "stream": "stdout",
       "text": [
        "  percent complete         \r",
        "42.6666666667  percent complete         \r",
        "43.0"
       ]
      },
      {
       "output_type": "stream",
       "stream": "stdout",
       "text": [
        "  percent complete         \r",
        "43.3333333333  percent complete         \r",
        "43.6666666667"
       ]
      },
      {
       "output_type": "stream",
       "stream": "stdout",
       "text": [
        "  percent complete         \r",
        "44.0"
       ]
      },
      {
       "output_type": "stream",
       "stream": "stdout",
       "text": [
        "  percent complete         \r",
        "44.3333333333  percent complete         \r",
        "44.6666666667"
       ]
      },
      {
       "output_type": "stream",
       "stream": "stdout",
       "text": [
        "  percent complete         \r",
        "45.0"
       ]
      },
      {
       "output_type": "stream",
       "stream": "stdout",
       "text": [
        "  percent complete         \r",
        "45.3333333333  percent complete         \r",
        "45.6666666667"
       ]
      },
      {
       "output_type": "stream",
       "stream": "stdout",
       "text": [
        "  percent complete         \r",
        "46.0  percent complete         \r",
        "46.3333333333"
       ]
      },
      {
       "output_type": "stream",
       "stream": "stdout",
       "text": [
        "  percent complete         \r",
        "46.6666666667  percent complete         \r",
        "47.0"
       ]
      },
      {
       "output_type": "stream",
       "stream": "stdout",
       "text": [
        "  percent complete         \r",
        "47.3333333333  percent complete         \r",
        "47.6666666667"
       ]
      },
      {
       "output_type": "stream",
       "stream": "stdout",
       "text": [
        "  percent complete         \r",
        "48.0  percent complete         \r",
        "48.3333333333"
       ]
      },
      {
       "output_type": "stream",
       "stream": "stdout",
       "text": [
        "  percent complete         \r",
        "48.6666666667"
       ]
      },
      {
       "output_type": "stream",
       "stream": "stdout",
       "text": [
        "  percent complete         \r",
        "49.0  percent complete         \r",
        "49.3333333333"
       ]
      },
      {
       "output_type": "stream",
       "stream": "stdout",
       "text": [
        "  percent complete         \r",
        "49.6666666667"
       ]
      },
      {
       "output_type": "stream",
       "stream": "stdout",
       "text": [
        "  percent complete         \r",
        "50.0"
       ]
      },
      {
       "output_type": "stream",
       "stream": "stdout",
       "text": [
        "  percent complete         \r",
        "50.3333333333  percent complete         \r",
        "50.6666666667"
       ]
      },
      {
       "output_type": "stream",
       "stream": "stdout",
       "text": [
        "  percent complete         \r",
        "51.0  percent complete         \r",
        "51.3333333333"
       ]
      },
      {
       "output_type": "stream",
       "stream": "stdout",
       "text": [
        "  percent complete         \r",
        "51.6666666667"
       ]
      },
      {
       "output_type": "stream",
       "stream": "stdout",
       "text": [
        "  percent complete         \r",
        "52.0"
       ]
      },
      {
       "output_type": "stream",
       "stream": "stdout",
       "text": [
        "  percent complete         \r",
        "52.3333333333  percent complete         \r",
        "52.6666666667"
       ]
      },
      {
       "output_type": "stream",
       "stream": "stdout",
       "text": [
        "  percent complete         \r",
        "53.0  percent complete         \r",
        "53.3333333333"
       ]
      },
      {
       "output_type": "stream",
       "stream": "stdout",
       "text": [
        "  percent complete         \r",
        "53.6666666667  percent complete         \r",
        "54.0"
       ]
      },
      {
       "output_type": "stream",
       "stream": "stdout",
       "text": [
        "  percent complete         \r",
        "54.3333333333"
       ]
      },
      {
       "output_type": "stream",
       "stream": "stdout",
       "text": [
        "  percent complete         \r",
        "54.6666666667"
       ]
      },
      {
       "output_type": "stream",
       "stream": "stdout",
       "text": [
        "  percent complete         \r",
        "55.0"
       ]
      },
      {
       "output_type": "stream",
       "stream": "stdout",
       "text": [
        "  percent complete         \r",
        "55.3333333333  percent complete         \r",
        "55.6666666667"
       ]
      },
      {
       "output_type": "stream",
       "stream": "stdout",
       "text": [
        "  percent complete         \r",
        "56.0"
       ]
      },
      {
       "output_type": "stream",
       "stream": "stdout",
       "text": [
        "  percent complete         \r",
        "56.3333333333  percent complete         \r",
        "56.6666666667"
       ]
      },
      {
       "output_type": "stream",
       "stream": "stdout",
       "text": [
        "  percent complete         \r",
        "57.0"
       ]
      },
      {
       "output_type": "stream",
       "stream": "stdout",
       "text": [
        "  percent complete         \r",
        "57.3333333333"
       ]
      },
      {
       "output_type": "stream",
       "stream": "stdout",
       "text": [
        "  percent complete         \r",
        "57.6666666667"
       ]
      },
      {
       "output_type": "stream",
       "stream": "stdout",
       "text": [
        "  percent complete         \r",
        "58.0  percent complete         \r",
        "58.3333333333"
       ]
      },
      {
       "output_type": "stream",
       "stream": "stdout",
       "text": [
        "  percent complete         \r",
        "58.6666666667  percent complete         \r",
        "59.0"
       ]
      },
      {
       "output_type": "stream",
       "stream": "stdout",
       "text": [
        "  percent complete         \r",
        "59.3333333333"
       ]
      },
      {
       "output_type": "stream",
       "stream": "stdout",
       "text": [
        "  percent complete         \r",
        "59.6666666667"
       ]
      },
      {
       "output_type": "stream",
       "stream": "stdout",
       "text": [
        "  percent complete         \r",
        "60.0  percent complete         \r",
        "60.3333333333"
       ]
      },
      {
       "output_type": "stream",
       "stream": "stdout",
       "text": [
        "  percent complete         \r",
        "60.6666666667  percent complete         \r",
        "61.0"
       ]
      },
      {
       "output_type": "stream",
       "stream": "stdout",
       "text": [
        "  percent complete         \r",
        "61.3333333333"
       ]
      },
      {
       "output_type": "stream",
       "stream": "stdout",
       "text": [
        "  percent complete         \r",
        "61.6666666667  percent complete         \r",
        "62.0"
       ]
      },
      {
       "output_type": "stream",
       "stream": "stdout",
       "text": [
        "  percent complete         \r",
        "62.3333333333  percent complete         \r",
        "62.6666666667"
       ]
      },
      {
       "output_type": "stream",
       "stream": "stdout",
       "text": [
        "  percent complete         \r",
        "63.0  percent complete         \r",
        "63.3333333333"
       ]
      },
      {
       "output_type": "stream",
       "stream": "stdout",
       "text": [
        "  percent complete         \r",
        "63.6666666667"
       ]
      },
      {
       "output_type": "stream",
       "stream": "stdout",
       "text": [
        "  percent complete         \r",
        "64.0  percent complete         \r",
        "64.3333333333"
       ]
      },
      {
       "output_type": "stream",
       "stream": "stdout",
       "text": [
        "  percent complete         \r",
        "64.6666666667"
       ]
      },
      {
       "output_type": "stream",
       "stream": "stdout",
       "text": [
        "  percent complete         \r",
        "65.0"
       ]
      },
      {
       "output_type": "stream",
       "stream": "stdout",
       "text": [
        "  percent complete         \r",
        "65.3333333333"
       ]
      },
      {
       "output_type": "stream",
       "stream": "stdout",
       "text": [
        "  percent complete         \r",
        "65.6666666667  percent complete         \r",
        "66.0"
       ]
      },
      {
       "output_type": "stream",
       "stream": "stdout",
       "text": [
        "  percent complete         \r",
        "66.3333333333  percent complete         \r",
        "66.6666666667"
       ]
      },
      {
       "output_type": "stream",
       "stream": "stdout",
       "text": [
        "  percent complete         \r",
        "67.0  percent complete         \r",
        "67.3333333333"
       ]
      },
      {
       "output_type": "stream",
       "stream": "stdout",
       "text": [
        "  percent complete         \r",
        "67.6666666667  percent complete         \r",
        "68.0  percent complete         \r",
        "68.3333333333"
       ]
      },
      {
       "output_type": "stream",
       "stream": "stdout",
       "text": [
        "  percent complete         \r",
        "68.6666666667"
       ]
      },
      {
       "output_type": "stream",
       "stream": "stdout",
       "text": [
        "  percent complete         \r",
        "69.0  percent complete         \r",
        "69.3333333333"
       ]
      },
      {
       "output_type": "stream",
       "stream": "stdout",
       "text": [
        "  percent complete         \r",
        "69.6666666667"
       ]
      },
      {
       "output_type": "stream",
       "stream": "stdout",
       "text": [
        "  percent complete         \r",
        "70.0"
       ]
      },
      {
       "output_type": "stream",
       "stream": "stdout",
       "text": [
        "  percent complete         \r",
        "70.3333333333"
       ]
      },
      {
       "output_type": "stream",
       "stream": "stdout",
       "text": [
        "  percent complete         \r",
        "70.6666666667"
       ]
      },
      {
       "output_type": "stream",
       "stream": "stdout",
       "text": [
        "  percent complete         \r",
        "71.0  percent complete         \r",
        "71.3333333333"
       ]
      },
      {
       "output_type": "stream",
       "stream": "stdout",
       "text": [
        "  percent complete         \r",
        "71.6666666667  percent complete         \r",
        "72.0"
       ]
      },
      {
       "output_type": "stream",
       "stream": "stdout",
       "text": [
        "  percent complete         \r",
        "72.3333333333  percent complete         \r",
        "72.6666666667"
       ]
      },
      {
       "output_type": "stream",
       "stream": "stdout",
       "text": [
        "  percent complete         \r",
        "73.0"
       ]
      },
      {
       "output_type": "stream",
       "stream": "stdout",
       "text": [
        "  percent complete         \r",
        "73.3333333333"
       ]
      },
      {
       "output_type": "stream",
       "stream": "stdout",
       "text": [
        "  percent complete         \r",
        "73.6666666667"
       ]
      },
      {
       "output_type": "stream",
       "stream": "stdout",
       "text": [
        "  percent complete         \r",
        "74.0"
       ]
      },
      {
       "output_type": "stream",
       "stream": "stdout",
       "text": [
        "  percent complete         \r",
        "74.3333333333  percent complete         \r",
        "74.6666666667"
       ]
      },
      {
       "output_type": "stream",
       "stream": "stdout",
       "text": [
        "  percent complete         \r",
        "75.0  percent complete         \r",
        "75.3333333333"
       ]
      },
      {
       "output_type": "stream",
       "stream": "stdout",
       "text": [
        "  percent complete         \r",
        "75.6666666667  percent complete         \r",
        "76.0"
       ]
      },
      {
       "output_type": "stream",
       "stream": "stdout",
       "text": [
        "  percent complete         \r",
        "76.3333333333  percent complete         \r",
        "76.6666666667"
       ]
      },
      {
       "output_type": "stream",
       "stream": "stdout",
       "text": [
        "  percent complete         \r",
        "77.0"
       ]
      },
      {
       "output_type": "stream",
       "stream": "stdout",
       "text": [
        "  percent complete         \r",
        "77.3333333333  percent complete         \r",
        "77.6666666667"
       ]
      },
      {
       "output_type": "stream",
       "stream": "stdout",
       "text": [
        "  percent complete         \r",
        "78.0"
       ]
      },
      {
       "output_type": "stream",
       "stream": "stdout",
       "text": [
        "  percent complete         \r",
        "78.3333333333"
       ]
      },
      {
       "output_type": "stream",
       "stream": "stdout",
       "text": [
        "  percent complete         \r",
        "78.6666666667  percent complete         \r",
        "79.0"
       ]
      },
      {
       "output_type": "stream",
       "stream": "stdout",
       "text": [
        "  percent complete         \r",
        "79.3333333333"
       ]
      },
      {
       "output_type": "stream",
       "stream": "stdout",
       "text": [
        "  percent complete         \r",
        "79.6666666667  percent complete         \r",
        "80.0"
       ]
      },
      {
       "output_type": "stream",
       "stream": "stdout",
       "text": [
        "  percent complete         \r",
        "80.3333333333"
       ]
      },
      {
       "output_type": "stream",
       "stream": "stdout",
       "text": [
        "  percent complete         \r",
        "80.6666666667  percent complete         \r",
        "81.0"
       ]
      },
      {
       "output_type": "stream",
       "stream": "stdout",
       "text": [
        "  percent complete         \r",
        "81.3333333333"
       ]
      },
      {
       "output_type": "stream",
       "stream": "stdout",
       "text": [
        "  percent complete         \r",
        "81.6666666667"
       ]
      },
      {
       "output_type": "stream",
       "stream": "stdout",
       "text": [
        "  percent complete         \r",
        "82.0"
       ]
      },
      {
       "output_type": "stream",
       "stream": "stdout",
       "text": [
        "  percent complete         \r",
        "82.3333333333"
       ]
      },
      {
       "output_type": "stream",
       "stream": "stdout",
       "text": [
        "  percent complete         \r",
        "82.6666666667"
       ]
      },
      {
       "output_type": "stream",
       "stream": "stdout",
       "text": [
        "  percent complete         \r",
        "83.0  percent complete         \r",
        "83.3333333333"
       ]
      },
      {
       "output_type": "stream",
       "stream": "stdout",
       "text": [
        "  percent complete         \r",
        "83.6666666667"
       ]
      },
      {
       "output_type": "stream",
       "stream": "stdout",
       "text": [
        "  percent complete         \r",
        "84.0  percent complete         \r",
        "84.3333333333"
       ]
      },
      {
       "output_type": "stream",
       "stream": "stdout",
       "text": [
        "  percent complete         \r",
        "84.6666666667"
       ]
      },
      {
       "output_type": "stream",
       "stream": "stdout",
       "text": [
        "  percent complete         \r",
        "85.0  percent complete         \r",
        "85.3333333333"
       ]
      },
      {
       "output_type": "stream",
       "stream": "stdout",
       "text": [
        "  percent complete         \r",
        "85.6666666667  percent complete         \r",
        "86.0"
       ]
      },
      {
       "output_type": "stream",
       "stream": "stdout",
       "text": [
        "  percent complete         \r",
        "86.3333333333  percent complete         \r",
        "86.6666666667"
       ]
      },
      {
       "output_type": "stream",
       "stream": "stdout",
       "text": [
        "  percent complete         \r",
        "87.0  percent complete         \r",
        "87.3333333333"
       ]
      },
      {
       "output_type": "stream",
       "stream": "stdout",
       "text": [
        "  percent complete         \r",
        "87.6666666667"
       ]
      },
      {
       "output_type": "stream",
       "stream": "stdout",
       "text": [
        "  percent complete         \r",
        "88.0  percent complete         \r",
        "88.3333333333"
       ]
      },
      {
       "output_type": "stream",
       "stream": "stdout",
       "text": [
        "  percent complete         \r",
        "88.6666666667"
       ]
      },
      {
       "output_type": "stream",
       "stream": "stdout",
       "text": [
        "  percent complete         \r",
        "89.0  percent complete         \r",
        "89.3333333333"
       ]
      },
      {
       "output_type": "stream",
       "stream": "stdout",
       "text": [
        "  percent complete         \r",
        "89.6666666667  percent complete         \r",
        "90.0"
       ]
      },
      {
       "output_type": "stream",
       "stream": "stdout",
       "text": [
        "  percent complete         \r",
        "90.3333333333  percent complete         \r",
        "90.6666666667"
       ]
      },
      {
       "output_type": "stream",
       "stream": "stdout",
       "text": [
        "  percent complete         \r",
        "91.0  percent complete         \r",
        "91.3333333333  percent complete         \r",
        "91.6666666667"
       ]
      },
      {
       "output_type": "stream",
       "stream": "stdout",
       "text": [
        "  percent complete         \r",
        "92.0  percent complete         \r",
        "92.3333333333"
       ]
      },
      {
       "output_type": "stream",
       "stream": "stdout",
       "text": [
        "  percent complete         \r",
        "92.6666666667  percent complete         \r",
        "93.0"
       ]
      },
      {
       "output_type": "stream",
       "stream": "stdout",
       "text": [
        "  percent complete         \r",
        "93.3333333333"
       ]
      },
      {
       "output_type": "stream",
       "stream": "stdout",
       "text": [
        "  percent complete         \r",
        "93.6666666667  percent complete         \r",
        "94.0"
       ]
      },
      {
       "output_type": "stream",
       "stream": "stdout",
       "text": [
        "  percent complete         \r",
        "94.3333333333  percent complete         \r",
        "94.6666666667"
       ]
      },
      {
       "output_type": "stream",
       "stream": "stdout",
       "text": [
        "  percent complete         \r",
        "95.0"
       ]
      },
      {
       "output_type": "stream",
       "stream": "stdout",
       "text": [
        "  percent complete         \r",
        "95.3333333333"
       ]
      },
      {
       "output_type": "stream",
       "stream": "stdout",
       "text": [
        "  percent complete         \r",
        "95.6666666667  percent complete         \r",
        "96.0"
       ]
      },
      {
       "output_type": "stream",
       "stream": "stdout",
       "text": [
        "  percent complete         \r",
        "96.3333333333  percent complete         \r",
        "96.6666666667"
       ]
      },
      {
       "output_type": "stream",
       "stream": "stdout",
       "text": [
        "  percent complete         \r",
        "97.0  percent complete         \r",
        "97.3333333333"
       ]
      },
      {
       "output_type": "stream",
       "stream": "stdout",
       "text": [
        "  percent complete         \r",
        "97.6666666667"
       ]
      },
      {
       "output_type": "stream",
       "stream": "stdout",
       "text": [
        "  percent complete         \r",
        "98.0"
       ]
      },
      {
       "output_type": "stream",
       "stream": "stdout",
       "text": [
        "  percent complete         \r",
        "98.3333333333  percent complete         \r",
        "98.6666666667"
       ]
      },
      {
       "output_type": "stream",
       "stream": "stdout",
       "text": [
        "  percent complete         \r",
        "99.0"
       ]
      },
      {
       "output_type": "stream",
       "stream": "stdout",
       "text": [
        "  percent complete         \r",
        "99.3333333333  percent complete         \r",
        "99.6666666667"
       ]
      }
     ]
    },
    {
     "cell_type": "code",
     "collapsed": false,
     "input": [
      "table.print_table('seizure_mean_auc')"
     ],
     "language": "python",
     "metadata": {},
     "outputs": [
      {
       "ename": "NameError",
       "evalue": "name 'table' is not defined",
       "output_type": "pyerr",
       "traceback": [
        "\u001b[1;31m---------------------------------------------------------------------------\u001b[0m\n\u001b[1;31mNameError\u001b[0m                                 Traceback (most recent call last)",
        "\u001b[1;32m<ipython-input-1-acaf808da39a>\u001b[0m in \u001b[0;36m<module>\u001b[1;34m()\u001b[0m\n\u001b[1;32m----> 1\u001b[1;33m \u001b[0mtable\u001b[0m\u001b[1;33m.\u001b[0m\u001b[0mprint_table\u001b[0m\u001b[1;33m(\u001b[0m\u001b[1;34m'seizure_mean_auc'\u001b[0m\u001b[1;33m)\u001b[0m\u001b[1;33m\u001b[0m\u001b[0m\n\u001b[0m",
        "\u001b[1;31mNameError\u001b[0m: name 'table' is not defined"
       ]
      }
     ],
     "prompt_number": 1
    },
    {
     "cell_type": "code",
     "collapsed": false,
     "input": [
      "table.print_table('early_mean_auc')"
     ],
     "language": "python",
     "metadata": {},
     "outputs": [
      {
       "output_type": "stream",
       "stream": "stdout",
       "text": [
        "# From FeaturesPredictsTable\n",
        "Reporting early_mean_auc\n",
        "+----------------------------------+--------+\n",
        "|          feat. \\ pred.           | Forest |\n",
        "+----------------------------------+--------+\n",
        "|                AR                |  0.82  |\n",
        "|             VLAR(2)              | 0.809  |\n",
        "|             VLAR(3)              | 0.745  |\n",
        "|             VLAR(4)              | 0.728  |\n",
        "|             VLAR(6)              | 0.681  |\n",
        "|                SE                | 0.883  |\n",
        "|               PLV                | 0.796  |\n",
        "|     Stack(VLAR(2), PLV, SE)      |  0.88  |\n",
        "|        Stack(VLAR(2), SE)        |  0.84  |\n",
        "|      Stack(AR, VLAR(2), SE)      | 0.831  |\n",
        "|   Stack(AR, VLAR(2), PLV, SE)    | 0.878  |\n",
        "| Stack(VLAR(2), VLAR(4), PLV, SE) | 0.879  |\n",
        "| Stack(VLAR(2), VLAR(6), PLV, SE) | 0.862  |\n",
        "+----------------------------------+--------+\n"
       ]
      }
     ],
     "prompt_number": 6
    }
   ],
   "metadata": {}
  }
 ]
}