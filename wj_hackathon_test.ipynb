{
 "metadata": {
  "name": "",
  "signature": "sha256:4e341f4587858b28540164db767340ded3a25435bc2a10ae296de9adcd0caa2d"
 },
 "nbformat": 3,
 "nbformat_minor": 0,
 "worksheets": [
  {
   "cells": [
    {
     "cell_type": "code",
     "collapsed": false,
     "input": [
      "%matplotlib inline\n",
      "# autoreload class definition\n",
      "%load_ext autoreload\n",
      "%autoreload 2\n",
      "\n",
      "import matplotlib.pyplot as plt\n",
      "import numpy as np\n",
      "import scipy.io"
     ],
     "language": "python",
     "metadata": {},
     "outputs": [
      {
       "output_type": "stream",
       "stream": "stdout",
       "text": [
        "The autoreload extension is already loaded. To reload it, use:\n",
        "  %reload_ext autoreload\n"
       ]
      }
     ],
     "prompt_number": 9
    },
    {
     "cell_type": "code",
     "collapsed": false,
     "input": [
      "channels = datamat['channels']\n",
      "print channels"
     ],
     "language": "python",
     "metadata": {},
     "outputs": [
      {
       "output_type": "stream",
       "stream": "stdout",
       "text": [
        "[[ ([u'NVC0905_22_002_Ecog_c001'], [u'NVC0905_22_002_Ecog_c002'], [u'NVC0905_22_002_Ecog_c003'], [u'NVC0905_22_002_Ecog_c004'], [u'NVC0905_22_002_Ecog_c005'], [u'NVC0905_22_002_Ecog_c006'], [u'NVC0905_22_002_Ecog_c007'], [u'NVC0905_22_002_Ecog_c008'], [u'NVC0905_22_002_Ecog_c009'], [u'NVC0905_22_002_Ecog_c010'], [u'NVC0905_22_002_Ecog_c011'], [u'NVC0905_22_002_Ecog_c012'], [u'NVC0905_22_002_Ecog_c013'], [u'NVC0905_22_002_Ecog_c014'], [u'NVC0905_22_002_Ecog_c015'], [u'NVC0905_22_002_Ecog_c016'])]]\n"
       ]
      }
     ],
     "prompt_number": 3
    },
    {
     "cell_type": "code",
     "collapsed": false,
     "input": [
      "data = datamat['data']\n",
      "data.shape"
     ],
     "language": "python",
     "metadata": {},
     "outputs": [
      {
       "metadata": {},
       "output_type": "pyout",
       "prompt_number": 4,
       "text": [
        "(16, 400)"
       ]
      }
     ],
     "prompt_number": 4
    },
    {
     "cell_type": "code",
     "collapsed": false,
     "input": [
      "# plot each channel \n",
      "plt.figure(figsize=(10,4))\n",
      "plt.plot(data.T)\n",
      "plt.xlabel('time')\n",
      "plt.ylabel('magnitude')\n",
      "plt.title('%d channels'%data.shape[0])\n",
      "plt.grid(True)"
     ],
     "language": "python",
     "metadata": {},
     "outputs": [],
     "prompt_number": 5
    },
    {
     "cell_type": "code",
     "collapsed": false,
     "input": [
      "plt.figure(figsize=(10,4))\n",
      "plt.plot(data[8,:])"
     ],
     "language": "python",
     "metadata": {},
     "outputs": [
      {
       "metadata": {},
       "output_type": "pyout",
       "prompt_number": 77,
       "text": [
        "[<matplotlib.lines.Line2D at 0xa85b5d2c>]"
       ]
      },
      {
       "metadata": {},
       "output_type": "display_data",
       "png": "[encoded data removed]",
       "text": [
        "<matplotlib.figure.Figure at 0xa866df6c>"
       ]
      }
     ],
     "prompt_number": 77
    },
    {
     "cell_type": "code",
     "collapsed": false,
     "input": [
      "np.hstack(data).shape"
     ],
     "language": "python",
     "metadata": {},
     "outputs": [
      {
       "metadata": {},
       "output_type": "pyout",
       "prompt_number": 7,
       "text": [
        "(6400,)"
       ]
      }
     ],
     "prompt_number": 7
    },
    {
     "cell_type": "code",
     "collapsed": false,
     "input": [
      "# test DataLoader_v2\n",
      "from seizures.data.DataLoader_v2 import DataLoader\n",
      "from seizures.features.RandomFeatures import RandomFeatures\n",
      "from seizures.features.ARFeatures import ARFeatures\n",
      "base_folder = Global.path_map('clips_folder')\n",
      "#base_folder = '/home/nuke/git/gatsby-hackathon-seizure/wj_data/'\n",
      "feature_extractor = ARFeatures()\n",
      "loader = DataLoader(base_folder, feature_extractor)\n",
      "subject_name = 'Dog_1'\n",
      "\n",
      "X, type_labels, early_labels = loader.training_data(subject_name)"
     ],
     "language": "python",
     "metadata": {},
     "outputs": [
      {
       "output_type": "stream",
       "stream": "stdout",
       "text": [
        "\n",
        "Loading train data for Dog_1\n",
        "418 interictal segments for Dog_1\n",
        "178 ictal segments for Dog_1\n",
        "subsampling from 596 segments to 400\n",
        "0.0  percent complete         \r",
        "0.25  percent complete         \r",
        "0.5  percent complete         \r",
        "0.75"
       ]
      },
      {
       "output_type": "stream",
       "stream": "stdout",
       "text": [
        "  percent complete         \r",
        "1.0  percent complete         \r",
        "1.25  percent complete         \r",
        "1.5  percent complete         \r",
        "1.75"
       ]
      },
      {
       "output_type": "stream",
       "stream": "stdout",
       "text": [
        "  percent complete         \r",
        "2.0  percent complete         \r",
        "2.25  percent complete         \r",
        "2.5  percent complete         \r",
        "2.75  percent complete         \r",
        "3.0"
       ]
      },
      {
       "output_type": "stream",
       "stream": "stdout",
       "text": [
        "  percent complete         \r",
        "3.25  percent complete         \r",
        "3.5  percent complete         \r",
        "3.75  percent complete         \r",
        "4.0  percent complete         \r",
        "4.25"
       ]
      },
      {
       "output_type": "stream",
       "stream": "stdout",
       "text": [
        "  percent complete         \r",
        "4.5  percent complete         \r",
        "4.75  percent complete         \r",
        "5.0  percent complete         \r",
        "5.25  percent complete         \r",
        "5.5"
       ]
      },
      {
       "output_type": "stream",
       "stream": "stdout",
       "text": [
        "  percent complete         \r",
        "5.75  percent complete         \r",
        "6.0  percent complete         \r",
        "6.25  percent complete         \r",
        "6.5  percent complete         \r",
        "6.75"
       ]
      },
      {
       "output_type": "stream",
       "stream": "stdout",
       "text": [
        "  percent complete         \r",
        "7.0  percent complete         \r",
        "7.25  percent complete         \r",
        "7.5  percent complete         \r",
        "7.75  percent complete         \r",
        "8.0"
       ]
      },
      {
       "output_type": "stream",
       "stream": "stdout",
       "text": [
        "  percent complete         \r",
        "8.25  percent complete         \r",
        "8.5  percent complete         \r",
        "8.75  percent complete         \r",
        "9.0  percent complete         \r",
        "9.25"
       ]
      },
      {
       "output_type": "stream",
       "stream": "stdout",
       "text": [
        "  percent complete         \r",
        "9.5  percent complete         \r",
        "9.75  percent complete         \r",
        "10.0  percent complete         \r",
        "10.25  percent complete         \r",
        "10.5"
       ]
      },
      {
       "output_type": "stream",
       "stream": "stdout",
       "text": [
        "  percent complete         \r",
        "10.75  percent complete         \r",
        "11.0  percent complete         \r",
        "11.25  percent complete         \r",
        "11.5  percent complete         \r",
        "11.75"
       ]
      },
      {
       "output_type": "stream",
       "stream": "stdout",
       "text": [
        "  percent complete         \r",
        "12.0  percent complete         \r",
        "12.25  percent complete         \r",
        "12.5  percent complete         \r",
        "12.75  percent complete         \r",
        "13.0"
       ]
      },
      {
       "output_type": "stream",
       "stream": "stdout",
       "text": [
        "  percent complete         \r",
        "13.25  percent complete         \r",
        "13.5  percent complete         \r",
        "13.75  percent complete         \r",
        "14.0  percent complete         \r",
        "14.25"
       ]
      },
      {
       "output_type": "stream",
       "stream": "stdout",
       "text": [
        "  percent complete         \r",
        "14.5  percent complete         \r",
        "14.75  percent complete         \r",
        "15.0  percent complete         \r",
        "15.25  percent complete         \r",
        "15.5"
       ]
      },
      {
       "output_type": "stream",
       "stream": "stdout",
       "text": [
        "  percent complete         \r",
        "15.75  percent complete         \r",
        "16.0  percent complete         \r",
        "16.25  percent complete         \r",
        "16.5  percent complete         \r",
        "16.75"
       ]
      },
      {
       "output_type": "stream",
       "stream": "stdout",
       "text": [
        "  percent complete         \r",
        "17.0  percent complete         \r",
        "17.25  percent complete         \r",
        "17.5  percent complete         \r",
        "17.75"
       ]
      },
      {
       "output_type": "stream",
       "stream": "stdout",
       "text": [
        "  percent complete         \r",
        "18.0  percent complete         \r",
        "18.25  percent complete         \r",
        "18.5  percent complete         \r",
        "18.75  percent complete         \r",
        "19.0"
       ]
      },
      {
       "output_type": "stream",
       "stream": "stdout",
       "text": [
        "  percent complete         \r",
        "19.25  percent complete         \r",
        "19.5  percent complete         \r",
        "19.75"
       ]
      },
      {
       "output_type": "stream",
       "stream": "stdout",
       "text": [
        "  percent complete         \r",
        "20.0  percent complete         \r",
        "20.25  percent complete         \r",
        "20.5  percent complete         \r",
        "20.75  percent complete         \r",
        "21.0"
       ]
      },
      {
       "output_type": "stream",
       "stream": "stdout",
       "text": [
        "  percent complete         \r",
        "21.25  percent complete         \r",
        "21.5  percent complete         \r",
        "21.75  percent complete         \r",
        "22.0  percent complete         \r",
        "22.25"
       ]
      },
      {
       "output_type": "stream",
       "stream": "stdout",
       "text": [
        "  percent complete         \r",
        "22.5  percent complete         \r",
        "22.75  percent complete         \r",
        "23.0  percent complete         \r",
        "23.25  percent complete         \r",
        "23.5"
       ]
      },
      {
       "output_type": "stream",
       "stream": "stdout",
       "text": [
        "  percent complete         \r",
        "23.75  percent complete         \r",
        "24.0  percent complete         \r",
        "24.25  percent complete         \r",
        "24.5  percent complete         \r",
        "24.75"
       ]
      },
      {
       "output_type": "stream",
       "stream": "stdout",
       "text": [
        "  percent complete         \r",
        "25.0  percent complete         \r",
        "25.25  percent complete         \r",
        "25.5  percent complete         \r",
        "25.75  percent complete         \r",
        "26.0"
       ]
      },
      {
       "output_type": "stream",
       "stream": "stdout",
       "text": [
        "  percent complete         \r",
        "26.25  percent complete         \r",
        "26.5  percent complete         \r",
        "26.75  percent complete         \r",
        "27.0  percent complete         \r",
        "27.25"
       ]
      },
      {
       "output_type": "stream",
       "stream": "stdout",
       "text": [
        "  percent complete         \r",
        "27.5  percent complete         \r",
        "27.75  percent complete         \r",
        "28.0  percent complete         \r",
        "28.25  percent complete         \r",
        "28.5"
       ]
      },
      {
       "output_type": "stream",
       "stream": "stdout",
       "text": [
        "  percent complete         \r",
        "28.75  percent complete         \r",
        "29.0  percent complete         \r",
        "29.25  percent complete         \r",
        "29.5  percent complete         \r",
        "29.75"
       ]
      },
      {
       "output_type": "stream",
       "stream": "stdout",
       "text": [
        "  percent complete         \r",
        "30.0  percent complete         \r",
        "30.25  percent complete         \r",
        "30.5  percent complete         \r",
        "30.75  percent complete         \r",
        "31.0"
       ]
      },
      {
       "output_type": "stream",
       "stream": "stdout",
       "text": [
        "  percent complete         \r",
        "31.25  percent complete         \r",
        "31.5  percent complete         \r",
        "31.75  percent complete         \r",
        "32.0  percent complete         \r",
        "32.25"
       ]
      },
      {
       "output_type": "stream",
       "stream": "stdout",
       "text": [
        "  percent complete         \r",
        "32.5  percent complete         \r",
        "32.75  percent complete         \r",
        "33.0  percent complete         \r",
        "33.25  percent complete         \r",
        "33.5"
       ]
      },
      {
       "output_type": "stream",
       "stream": "stdout",
       "text": [
        "  percent complete         \r",
        "33.75  percent complete         \r",
        "34.0  percent complete         \r",
        "34.25  percent complete         \r",
        "34.5  percent complete         \r",
        "34.75"
       ]
      },
      {
       "output_type": "stream",
       "stream": "stdout",
       "text": [
        "  percent complete         \r",
        "35.0  percent complete         \r",
        "35.25  percent complete         \r",
        "35.5  percent complete         \r",
        "35.75  percent complete         \r",
        "36.0"
       ]
      },
      {
       "output_type": "stream",
       "stream": "stdout",
       "text": [
        "  percent complete         \r",
        "36.25  percent complete         \r",
        "36.5  percent complete         \r",
        "36.75  percent complete         \r",
        "37.0  percent complete         \r",
        "37.25"
       ]
      },
      {
       "output_type": "stream",
       "stream": "stdout",
       "text": [
        "  percent complete         \r",
        "37.5  percent complete         \r",
        "37.75  percent complete         \r",
        "38.0  percent complete         \r",
        "38.25  percent complete         \r",
        "38.5"
       ]
      },
      {
       "output_type": "stream",
       "stream": "stdout",
       "text": [
        "  percent complete         \r",
        "38.75  percent complete         \r",
        "39.0  percent complete         \r",
        "39.25  percent complete         \r",
        "39.5"
       ]
      },
      {
       "output_type": "stream",
       "stream": "stdout",
       "text": [
        "  percent complete         \r",
        "39.75  percent complete         \r",
        "40.0  percent complete         \r",
        "40.25  percent complete         \r",
        "40.5  percent complete         \r",
        "40.75"
       ]
      },
      {
       "output_type": "stream",
       "stream": "stdout",
       "text": [
        "  percent complete         \r",
        "41.0  percent complete         \r",
        "41.25  percent complete         \r",
        "41.5  percent complete         \r",
        "41.75  percent complete         \r",
        "42.0"
       ]
      },
      {
       "output_type": "stream",
       "stream": "stdout",
       "text": [
        "  percent complete         \r",
        "42.25  percent complete         \r",
        "42.5  percent complete         \r",
        "42.75  percent complete         \r",
        "43.0  percent complete         \r",
        "43.25"
       ]
      },
      {
       "output_type": "stream",
       "stream": "stdout",
       "text": [
        "  percent complete         \r",
        "43.5  percent complete         \r",
        "43.75  percent complete         \r",
        "44.0  percent complete         \r",
        "44.25"
       ]
      },
      {
       "output_type": "stream",
       "stream": "stdout",
       "text": [
        "  percent complete         \r",
        "44.5  percent complete         \r",
        "44.75  percent complete         \r",
        "45.0  percent complete         \r",
        "45.25  percent complete         \r",
        "45.5"
       ]
      },
      {
       "output_type": "stream",
       "stream": "stdout",
       "text": [
        "  percent complete         \r",
        "45.75  percent complete         \r",
        "46.0  percent complete         \r",
        "46.25  percent complete         \r",
        "46.5  percent complete         \r",
        "46.75"
       ]
      },
      {
       "output_type": "stream",
       "stream": "stdout",
       "text": [
        "  percent complete         \r",
        "47.0  percent complete         \r",
        "47.25  percent complete         \r",
        "47.5  percent complete         \r",
        "47.75  percent complete         \r",
        "48.0"
       ]
      },
      {
       "output_type": "stream",
       "stream": "stdout",
       "text": [
        "  percent complete         \r",
        "48.25  percent complete         \r",
        "48.5  percent complete         \r",
        "48.75  percent complete         \r",
        "49.0  percent complete         \r",
        "49.25"
       ]
      },
      {
       "output_type": "stream",
       "stream": "stdout",
       "text": [
        "  percent complete         \r",
        "49.5  percent complete         \r",
        "49.75  percent complete         \r",
        "50.0  percent complete         \r",
        "50.25  percent complete         \r",
        "50.5"
       ]
      },
      {
       "output_type": "stream",
       "stream": "stdout",
       "text": [
        "  percent complete         \r",
        "50.75  percent complete         \r",
        "51.0  percent complete         \r",
        "51.25  percent complete         \r",
        "51.5  percent complete         \r",
        "51.75"
       ]
      },
      {
       "output_type": "stream",
       "stream": "stdout",
       "text": [
        "  percent complete         \r",
        "52.0  percent complete         \r",
        "52.25  percent complete         \r",
        "52.5  percent complete         \r",
        "52.75  percent complete         \r",
        "53.0"
       ]
      },
      {
       "output_type": "stream",
       "stream": "stdout",
       "text": [
        "  percent complete         \r",
        "53.25  percent complete         \r",
        "53.5  percent complete         \r",
        "53.75  percent complete         \r",
        "54.0  percent complete         \r",
        "54.25"
       ]
      },
      {
       "output_type": "stream",
       "stream": "stdout",
       "text": [
        "  percent complete         \r",
        "54.5  percent complete         \r",
        "54.75  percent complete         \r",
        "55.0  percent complete         \r",
        "55.25  percent complete         \r",
        "55.5"
       ]
      },
      {
       "output_type": "stream",
       "stream": "stdout",
       "text": [
        "  percent complete         \r",
        "55.75  percent complete         \r",
        "56.0  percent complete         \r",
        "56.25  percent complete         \r",
        "56.5  percent complete         \r",
        "56.75"
       ]
      },
      {
       "output_type": "stream",
       "stream": "stdout",
       "text": [
        "  percent complete         \r",
        "57.0  percent complete         \r",
        "57.25  percent complete         \r",
        "57.5  percent complete         \r",
        "57.75  percent complete         \r",
        "58.0"
       ]
      },
      {
       "output_type": "stream",
       "stream": "stdout",
       "text": [
        "  percent complete         \r",
        "58.25  percent complete         \r",
        "58.5  percent complete         \r",
        "58.75  percent complete         \r",
        "59.0  percent complete         \r",
        "59.25"
       ]
      },
      {
       "output_type": "stream",
       "stream": "stdout",
       "text": [
        "  percent complete         \r",
        "59.5  percent complete         \r",
        "59.75  percent complete         \r",
        "60.0  percent complete         \r",
        "60.25  percent complete         \r",
        "60.5"
       ]
      },
      {
       "output_type": "stream",
       "stream": "stdout",
       "text": [
        "  percent complete         \r",
        "60.75  percent complete         \r",
        "61.0  percent complete         \r",
        "61.25  percent complete         \r",
        "61.5  percent complete         \r",
        "61.75"
       ]
      },
      {
       "output_type": "stream",
       "stream": "stdout",
       "text": [
        "  percent complete         \r",
        "62.0  percent complete         \r",
        "62.25  percent complete         \r",
        "62.5  percent complete         \r",
        "62.75  percent complete         \r",
        "63.0"
       ]
      },
      {
       "output_type": "stream",
       "stream": "stdout",
       "text": [
        "  percent complete         \r",
        "63.25  percent complete         \r",
        "63.5  percent complete         \r",
        "63.75  percent complete         \r",
        "64.0  percent complete         \r",
        "64.25"
       ]
      },
      {
       "output_type": "stream",
       "stream": "stdout",
       "text": [
        "  percent complete         \r",
        "64.5  percent complete         \r",
        "64.75  percent complete         \r",
        "65.0  percent complete         \r",
        "65.25  percent complete         \r",
        "65.5"
       ]
      },
      {
       "output_type": "stream",
       "stream": "stdout",
       "text": [
        "  percent complete         \r",
        "65.75  percent complete         \r",
        "66.0  percent complete         \r",
        "66.25  percent complete         \r",
        "66.5  percent complete         \r",
        "66.75"
       ]
      },
      {
       "output_type": "stream",
       "stream": "stdout",
       "text": [
        "  percent complete         \r",
        "67.0  percent complete         \r",
        "67.25  percent complete         \r",
        "67.5  percent complete         \r",
        "67.75  percent complete         \r",
        "68.0"
       ]
      },
      {
       "output_type": "stream",
       "stream": "stdout",
       "text": [
        "  percent complete         \r",
        "68.25  percent complete         \r",
        "68.5  percent complete         \r",
        "68.75  percent complete         \r",
        "69.0  percent complete         \r",
        "69.25"
       ]
      },
      {
       "output_type": "stream",
       "stream": "stdout",
       "text": [
        "  percent complete         \r",
        "69.5  percent complete         \r",
        "69.75  percent complete         \r",
        "70.0  percent complete         \r",
        "70.25  percent complete         \r",
        "70.5"
       ]
      },
      {
       "output_type": "stream",
       "stream": "stdout",
       "text": [
        "  percent complete         \r",
        "70.75  percent complete         \r",
        "71.0  percent complete         \r",
        "71.25  percent complete         \r",
        "71.5  percent complete         \r",
        "71.75"
       ]
      },
      {
       "output_type": "stream",
       "stream": "stdout",
       "text": [
        "  percent complete         \r",
        "72.0  percent complete         \r",
        "72.25  percent complete         \r",
        "72.5  percent complete         \r",
        "72.75  percent complete         \r",
        "73.0"
       ]
      },
      {
       "output_type": "stream",
       "stream": "stdout",
       "text": [
        "  percent complete         \r",
        "73.25  percent complete         \r",
        "73.5  percent complete         \r",
        "73.75  percent complete         \r",
        "74.0  percent complete         \r",
        "74.25"
       ]
      },
      {
       "output_type": "stream",
       "stream": "stdout",
       "text": [
        "  percent complete         \r",
        "74.5  percent complete         \r",
        "74.75  percent complete         \r",
        "75.0  percent complete         \r",
        "75.25  percent complete         \r",
        "75.5"
       ]
      },
      {
       "output_type": "stream",
       "stream": "stdout",
       "text": [
        "  percent complete         \r",
        "75.75  percent complete         \r",
        "76.0  percent complete         \r",
        "76.25  percent complete         \r",
        "76.5  percent complete         \r",
        "76.75"
       ]
      },
      {
       "output_type": "stream",
       "stream": "stdout",
       "text": [
        "  percent complete         \r",
        "77.0  percent complete         \r",
        "77.25  percent complete         \r",
        "77.5  percent complete         \r",
        "77.75  percent complete         \r",
        "78.0"
       ]
      },
      {
       "output_type": "stream",
       "stream": "stdout",
       "text": [
        "  percent complete         \r",
        "78.25  percent complete         \r",
        "78.5  percent complete         \r",
        "78.75  percent complete         \r",
        "79.0  percent complete         \r",
        "79.25"
       ]
      },
      {
       "output_type": "stream",
       "stream": "stdout",
       "text": [
        "  percent complete         \r",
        "79.5  percent complete         \r",
        "79.75  percent complete         \r",
        "80.0  percent complete         \r",
        "80.25"
       ]
      },
      {
       "output_type": "stream",
       "stream": "stdout",
       "text": [
        "  percent complete         \r",
        "80.5  percent complete         \r",
        "80.75  percent complete         \r",
        "81.0  percent complete         \r",
        "81.25  percent complete         \r"
       ]
      },
      {
       "output_type": "stream",
       "stream": "stdout",
       "text": [
        "81.5  percent complete         \r",
        "81.75  percent complete         \r",
        "82.0  percent complete         \r",
        "82.25  percent complete         \r",
        "82.5  percent complete         \r",
        "82.75"
       ]
      },
      {
       "output_type": "stream",
       "stream": "stdout",
       "text": [
        "  percent complete         \r",
        "83.0  percent complete         \r",
        "83.25  percent complete         \r",
        "83.5  percent complete         \r",
        "83.75  percent complete         \r",
        "84.0"
       ]
      },
      {
       "output_type": "stream",
       "stream": "stdout",
       "text": [
        "  percent complete         \r",
        "84.25  percent complete         \r",
        "84.5  percent complete         \r",
        "84.75  percent complete         \r",
        "85.0  percent complete         \r",
        "85.25"
       ]
      },
      {
       "output_type": "stream",
       "stream": "stdout",
       "text": [
        "  percent complete         \r",
        "85.5  percent complete         \r",
        "85.75  percent complete         \r",
        "86.0  percent complete         \r",
        "86.25  percent complete         \r",
        "86.5"
       ]
      },
      {
       "output_type": "stream",
       "stream": "stdout",
       "text": [
        "  percent complete         \r",
        "86.75  percent complete         \r",
        "87.0  percent complete         \r",
        "87.25  percent complete         \r",
        "87.5  percent complete         \r",
        "87.75"
       ]
      },
      {
       "output_type": "stream",
       "stream": "stdout",
       "text": [
        "  percent complete         \r",
        "88.0  percent complete         \r",
        "88.25  percent complete         \r",
        "88.5  percent complete         \r",
        "88.75  percent complete         \r",
        "89.0"
       ]
      },
      {
       "output_type": "stream",
       "stream": "stdout",
       "text": [
        "  percent complete         \r",
        "89.25  percent complete         \r",
        "89.5  percent complete         \r",
        "89.75  percent complete         \r",
        "90.0"
       ]
      },
      {
       "output_type": "stream",
       "stream": "stdout",
       "text": [
        "  percent complete         \r",
        "90.25  percent complete         \r",
        "90.5  percent complete         \r",
        "90.75  percent complete         \r",
        "91.0"
       ]
      },
      {
       "output_type": "stream",
       "stream": "stdout",
       "text": [
        "  percent complete         \r",
        "91.25  percent complete         \r",
        "91.5  percent complete         \r",
        "91.75  percent complete         \r",
        "92.0  percent complete         \r",
        "92.25"
       ]
      },
      {
       "output_type": "stream",
       "stream": "stdout",
       "text": [
        "  percent complete         \r",
        "92.5  percent complete         \r",
        "92.75  percent complete         \r",
        "93.0  percent complete         \r",
        "93.25  percent complete         \r",
        "93.5"
       ]
      },
      {
       "output_type": "stream",
       "stream": "stdout",
       "text": [
        "  percent complete         \r",
        "93.75  percent complete         \r",
        "94.0  percent complete         \r",
        "94.25  percent complete         \r",
        "94.5  percent complete         \r",
        "94.75"
       ]
      },
      {
       "output_type": "stream",
       "stream": "stdout",
       "text": [
        "  percent complete         \r",
        "95.0  percent complete         \r",
        "95.25  percent complete         \r",
        "95.5  percent complete         \r",
        "95.75  percent complete         \r",
        "96.0"
       ]
      },
      {
       "output_type": "stream",
       "stream": "stdout",
       "text": [
        "  percent complete         \r",
        "96.25  percent complete         \r",
        "96.5  percent complete         \r",
        "96.75  percent complete         \r",
        "97.0  percent complete         \r",
        "97.25"
       ]
      },
      {
       "output_type": "stream",
       "stream": "stdout",
       "text": [
        "  percent complete         \r",
        "97.5  percent complete         \r",
        "97.75  percent complete         \r",
        "98.0  percent complete         \r",
        "98.25  percent complete         \r",
        "98.5"
       ]
      },
      {
       "output_type": "stream",
       "stream": "stdout",
       "text": [
        "  percent complete         \r",
        "98.75  percent complete         \r",
        "99.0  percent complete         \r",
        "99.25  percent complete         \r",
        "99.5  percent complete         \r",
        "99.75"
       ]
      },
      {
       "output_type": "stream",
       "stream": "stdout",
       "text": [
        "  percent complete         \r\n",
        "done\n"
       ]
      }
     ],
     "prompt_number": 76
    },
    {
     "cell_type": "code",
     "collapsed": false,
     "input": [
      "# \n",
      "X.shape"
     ],
     "language": "python",
     "metadata": {},
     "outputs": [
      {
       "metadata": {},
       "output_type": "pyout",
       "prompt_number": 47,
       "text": [
        "(400, 528)"
       ]
      }
     ],
     "prompt_number": 47
    },
    {
     "cell_type": "code",
     "collapsed": false,
     "input": [
      "plt.plot(X[2, :])"
     ],
     "language": "python",
     "metadata": {},
     "outputs": [
      {
       "metadata": {},
       "output_type": "pyout",
       "prompt_number": 23,
       "text": [
        "[<matplotlib.lines.Line2D at 0xa86fd3cc>]"
       ]
      },
      {
       "metadata": {},
       "output_type": "display_data",
       "png": "[encoded data removed]",
       "text": [
        "<matplotlib.figure.Figure at 0xa890830c>"
       ]
      }
     ],
     "prompt_number": 23
    },
    {
     "cell_type": "code",
     "collapsed": false,
     "input": [
      "# load_data() method will fill the content of attribute features_train \n",
      "assert(type(loader.features_train)==list)\n",
      "features_train = loader.features_train\n",
      "print '#ictal+interictal segments in %s = %d'% (subject_name, len(features_train))\n",
      "print '#features of %s = %d' % (type(feature_extractor), len(features_train[0]) )\n",
      "# loader.features_train"
     ],
     "language": "python",
     "metadata": {},
     "outputs": [
      {
       "output_type": "stream",
       "stream": "stdout",
       "text": [
        "#ictal+interictal segments in Dog_1 = 596\n",
        "#features of <class 'seizures.features.ARFeatures.ARFeatures'> = 528\n"
       ]
      }
     ],
     "prompt_number": 40
    },
    {
     "cell_type": "code",
     "collapsed": false,
     "input": [
      "# data for cross validation\n",
      "n_fold = 3\n",
      "X_list,y_seizure, y_early = loader.blocks_for_Xvalidation(subject_name, n_fold)"
     ],
     "language": "python",
     "metadata": {},
     "outputs": [
      {
       "output_type": "stream",
       "stream": "stdout",
       "text": [
        "\n",
        "Loading train data for Dog_1\n",
        "418 interictal segments for Dog_1\n",
        "178 ictal segments for Dog_1\n",
        "subsampling from 596 segments to 400\n",
        "0.0  percent complete         \r",
        "0.25  percent complete         \r",
        "0.5  percent complete         \r",
        "0.75  percent complete         \r",
        "1.0"
       ]
      },
      {
       "output_type": "stream",
       "stream": "stdout",
       "text": [
        "  percent complete         \r",
        "1.25  percent complete         \r",
        "1.5  percent complete         \r",
        "1.75  percent complete         \r",
        "2.0  percent complete         \r",
        "2.25"
       ]
      },
      {
       "output_type": "stream",
       "stream": "stdout",
       "text": [
        "  percent complete         \r",
        "2.5  percent complete         \r",
        "2.75  percent complete         \r",
        "3.0  percent complete         \r",
        "3.25  percent complete         \r",
        "3.5"
       ]
      },
      {
       "output_type": "stream",
       "stream": "stdout",
       "text": [
        "  percent complete         \r",
        "3.75  percent complete         \r",
        "4.0  percent complete         \r",
        "4.25  percent complete         \r",
        "4.5  percent complete         \r",
        "4.75"
       ]
      },
      {
       "output_type": "stream",
       "stream": "stdout",
       "text": [
        "  percent complete         \r",
        "5.0  percent complete         \r",
        "5.25  percent complete         \r",
        "5.5  percent complete         \r",
        "5.75  percent complete         \r",
        "6.0"
       ]
      },
      {
       "output_type": "stream",
       "stream": "stdout",
       "text": [
        "  percent complete         \r",
        "6.25  percent complete         \r",
        "6.5  percent complete         \r",
        "6.75  percent complete         \r",
        "7.0  percent complete         \r",
        "7.25"
       ]
      },
      {
       "output_type": "stream",
       "stream": "stdout",
       "text": [
        "  percent complete         \r",
        "7.5  percent complete         \r",
        "7.75  percent complete         \r",
        "8.0  percent complete         \r",
        "8.25  percent complete         \r",
        "8.5"
       ]
      },
      {
       "output_type": "stream",
       "stream": "stdout",
       "text": [
        "  percent complete         \r",
        "8.75  percent complete         \r",
        "9.0  percent complete         \r",
        "9.25  percent complete         \r",
        "9.5  percent complete         \r",
        "9.75"
       ]
      },
      {
       "output_type": "stream",
       "stream": "stdout",
       "text": [
        "  percent complete         \r",
        "10.0  percent complete         \r",
        "10.25  percent complete         \r",
        "10.5  percent complete         \r",
        "10.75  percent complete         \r",
        "11.0"
       ]
      },
      {
       "output_type": "stream",
       "stream": "stdout",
       "text": [
        "  percent complete         \r",
        "11.25  percent complete         \r",
        "11.5  percent complete         \r",
        "11.75  percent complete         \r",
        "12.0  percent complete         \r",
        "12.25"
       ]
      },
      {
       "output_type": "stream",
       "stream": "stdout",
       "text": [
        "  percent complete         \r",
        "12.5  percent complete         \r",
        "12.75  percent complete         \r",
        "13.0  percent complete         \r",
        "13.25  percent complete         \r",
        "13.5"
       ]
      },
      {
       "output_type": "stream",
       "stream": "stdout",
       "text": [
        "  percent complete         \r",
        "13.75  percent complete         \r",
        "14.0  percent complete         \r",
        "14.25  percent complete         \r",
        "14.5"
       ]
      },
      {
       "output_type": "stream",
       "stream": "stdout",
       "text": [
        "  percent complete         \r",
        "14.75  percent complete         \r",
        "15.0  percent complete         \r",
        "15.25  percent complete         \r",
        "15.5"
       ]
      },
      {
       "output_type": "stream",
       "stream": "stdout",
       "text": [
        "  percent complete         \r",
        "15.75  percent complete         \r",
        "16.0  percent complete         \r",
        "16.25  percent complete         \r",
        "16.5  percent complete         \r",
        "16.75"
       ]
      },
      {
       "output_type": "stream",
       "stream": "stdout",
       "text": [
        "  percent complete         \r",
        "17.0  percent complete         \r",
        "17.25  percent complete         \r",
        "17.5  percent complete         \r",
        "17.75  percent complete         \r",
        "18.0"
       ]
      },
      {
       "output_type": "stream",
       "stream": "stdout",
       "text": [
        "  percent complete         \r",
        "18.25  percent complete         \r",
        "18.5  percent complete         \r",
        "18.75  percent complete         \r",
        "19.0  percent complete         \r",
        "19.25"
       ]
      },
      {
       "output_type": "stream",
       "stream": "stdout",
       "text": [
        "  percent complete         \r",
        "19.5  percent complete         \r",
        "19.75  percent complete         \r",
        "20.0  percent complete         \r",
        "20.25  percent complete         \r",
        "20.5"
       ]
      },
      {
       "output_type": "stream",
       "stream": "stdout",
       "text": [
        "  percent complete         \r",
        "20.75  percent complete         \r",
        "21.0  percent complete         \r",
        "21.25  percent complete         \r",
        "21.5  percent complete         \r",
        "21.75"
       ]
      },
      {
       "output_type": "stream",
       "stream": "stdout",
       "text": [
        "  percent complete         \r",
        "22.0  percent complete         \r",
        "22.25  percent complete         \r",
        "22.5  percent complete         \r",
        "22.75  percent complete         \r",
        "23.0"
       ]
      },
      {
       "output_type": "stream",
       "stream": "stdout",
       "text": [
        "  percent complete         \r",
        "23.25  percent complete         \r",
        "23.5  percent complete         \r",
        "23.75  percent complete         \r",
        "24.0  percent complete         \r",
        "24.25"
       ]
      },
      {
       "output_type": "stream",
       "stream": "stdout",
       "text": [
        "  percent complete         \r",
        "24.5  percent complete         \r",
        "24.75  percent complete         \r",
        "25.0  percent complete         \r",
        "25.25  percent complete         \r",
        "25.5"
       ]
      },
      {
       "output_type": "stream",
       "stream": "stdout",
       "text": [
        "  percent complete         \r",
        "25.75  percent complete         \r",
        "26.0  percent complete         \r",
        "26.25  percent complete         \r",
        "26.5  percent complete         \r",
        "26.75"
       ]
      },
      {
       "output_type": "stream",
       "stream": "stdout",
       "text": [
        "  percent complete         \r",
        "27.0  percent complete         \r",
        "27.25  percent complete         \r",
        "27.5  percent complete         \r",
        "27.75  percent complete         \r",
        "28.0"
       ]
      },
      {
       "output_type": "stream",
       "stream": "stdout",
       "text": [
        "  percent complete         \r",
        "28.25  percent complete         \r",
        "28.5  percent complete         \r",
        "28.75  percent complete         \r",
        "29.0  percent complete         \r",
        "29.25"
       ]
      },
      {
       "output_type": "stream",
       "stream": "stdout",
       "text": [
        "  percent complete         \r",
        "29.5  percent complete         \r",
        "29.75  percent complete         \r",
        "30.0  percent complete         \r",
        "30.25  percent complete         \r",
        "30.5"
       ]
      },
      {
       "output_type": "stream",
       "stream": "stdout",
       "text": [
        "  percent complete         \r",
        "30.75  percent complete         \r",
        "31.0  percent complete         \r",
        "31.25  percent complete         \r",
        "31.5  percent complete         \r",
        "31.75"
       ]
      },
      {
       "output_type": "stream",
       "stream": "stdout",
       "text": [
        "  percent complete         \r",
        "32.0  percent complete         \r",
        "32.25  percent complete         \r",
        "32.5  percent complete         \r",
        "32.75  percent complete         \r",
        "33.0"
       ]
      },
      {
       "output_type": "stream",
       "stream": "stdout",
       "text": [
        "  percent complete         \r",
        "33.25  percent complete         \r",
        "33.5  percent complete         \r",
        "33.75  percent complete         \r",
        "34.0  percent complete         \r",
        "34.25"
       ]
      },
      {
       "output_type": "stream",
       "stream": "stdout",
       "text": [
        "  percent complete         \r",
        "34.5  percent complete         \r",
        "34.75  percent complete         \r",
        "35.0  percent complete         \r",
        "35.25  percent complete         \r",
        "35.5"
       ]
      },
      {
       "output_type": "stream",
       "stream": "stdout",
       "text": [
        "  percent complete         \r",
        "35.75  percent complete         \r",
        "36.0  percent complete         \r",
        "36.25  percent complete         \r",
        "36.5  percent complete         \r",
        "36.75"
       ]
      },
      {
       "output_type": "stream",
       "stream": "stdout",
       "text": [
        "  percent complete         \r",
        "37.0  percent complete         \r",
        "37.25  percent complete         \r",
        "37.5  percent complete         \r",
        "37.75  percent complete         \r",
        "38.0"
       ]
      },
      {
       "output_type": "stream",
       "stream": "stdout",
       "text": [
        "  percent complete         \r",
        "38.25  percent complete         \r",
        "38.5  percent complete         \r",
        "38.75  percent complete         \r",
        "39.0  percent complete         \r",
        "39.25"
       ]
      },
      {
       "output_type": "stream",
       "stream": "stdout",
       "text": [
        "  percent complete         \r",
        "39.5  percent complete         \r",
        "39.75  percent complete         \r",
        "40.0  percent complete         \r",
        "40.25  percent complete         \r",
        "40.5"
       ]
      },
      {
       "output_type": "stream",
       "stream": "stdout",
       "text": [
        "  percent complete         \r",
        "40.75  percent complete         \r",
        "41.0  percent complete         \r",
        "41.25  percent complete         \r",
        "41.5  percent complete         \r",
        "41.75"
       ]
      },
      {
       "output_type": "stream",
       "stream": "stdout",
       "text": [
        "  percent complete         \r",
        "42.0  percent complete         \r",
        "42.25  percent complete         \r",
        "42.5  percent complete         \r",
        "42.75  percent complete         \r",
        "43.0"
       ]
      },
      {
       "output_type": "stream",
       "stream": "stdout",
       "text": [
        "  percent complete         \r",
        "43.25  percent complete         \r",
        "43.5  percent complete         \r",
        "43.75  percent complete         \r",
        "44.0  percent complete         \r",
        "44.25"
       ]
      },
      {
       "output_type": "stream",
       "stream": "stdout",
       "text": [
        "  percent complete         \r",
        "44.5  percent complete         \r",
        "44.75  percent complete         \r",
        "45.0  percent complete         \r",
        "45.25  percent complete         \r",
        "45.5"
       ]
      },
      {
       "output_type": "stream",
       "stream": "stdout",
       "text": [
        "  percent complete         \r",
        "45.75  percent complete         \r",
        "46.0  percent complete         \r",
        "46.25  percent complete         \r",
        "46.5  percent complete         \r",
        "46.75"
       ]
      },
      {
       "output_type": "stream",
       "stream": "stdout",
       "text": [
        "  percent complete         \r",
        "47.0  percent complete         \r",
        "47.25  percent complete         \r",
        "47.5  percent complete         \r",
        "47.75  percent complete         \r",
        "48.0"
       ]
      },
      {
       "output_type": "stream",
       "stream": "stdout",
       "text": [
        "  percent complete         \r",
        "48.25  percent complete         \r",
        "48.5  percent complete         \r",
        "48.75  percent complete         \r",
        "49.0  percent complete         \r",
        "49.25"
       ]
      },
      {
       "output_type": "stream",
       "stream": "stdout",
       "text": [
        "  percent complete         \r",
        "49.5  percent complete         \r",
        "49.75  percent complete         \r",
        "50.0  percent complete         \r",
        "50.25  percent complete         \r",
        "50.5"
       ]
      },
      {
       "output_type": "stream",
       "stream": "stdout",
       "text": [
        "  percent complete         \r",
        "50.75  percent complete         \r",
        "51.0  percent complete         \r",
        "51.25  percent complete         \r",
        "51.5  percent complete         \r",
        "51.75"
       ]
      },
      {
       "output_type": "stream",
       "stream": "stdout",
       "text": [
        "  percent complete         \r",
        "52.0  percent complete         \r",
        "52.25  percent complete         \r",
        "52.5  percent complete         \r",
        "52.75  percent complete         \r",
        "53.0"
       ]
      },
      {
       "output_type": "stream",
       "stream": "stdout",
       "text": [
        "  percent complete         \r",
        "53.25  percent complete         \r",
        "53.5  percent complete         \r",
        "53.75  percent complete         \r",
        "54.0  percent complete         \r",
        "54.25"
       ]
      },
      {
       "output_type": "stream",
       "stream": "stdout",
       "text": [
        "  percent complete         \r",
        "54.5  percent complete         \r",
        "54.75  percent complete         \r",
        "55.0  percent complete         \r",
        "55.25  percent complete         \r",
        "55.5"
       ]
      },
      {
       "output_type": "stream",
       "stream": "stdout",
       "text": [
        "  percent complete         \r",
        "55.75  percent complete         \r",
        "56.0  percent complete         \r",
        "56.25  percent complete         \r",
        "56.5  percent complete         \r",
        "56.75"
       ]
      },
      {
       "output_type": "stream",
       "stream": "stdout",
       "text": [
        "  percent complete         \r",
        "57.0  percent complete         \r",
        "57.25  percent complete         \r",
        "57.5  percent complete         \r",
        "57.75  percent complete         \r",
        "58.0"
       ]
      },
      {
       "output_type": "stream",
       "stream": "stdout",
       "text": [
        "  percent complete         \r",
        "58.25  percent complete         \r",
        "58.5  percent complete         \r",
        "58.75  percent complete         \r",
        "59.0  percent complete         \r",
        "59.25"
       ]
      },
      {
       "output_type": "stream",
       "stream": "stdout",
       "text": [
        "  percent complete         \r",
        "59.5  percent complete         \r",
        "59.75  percent complete         \r",
        "60.0  percent complete         \r",
        "60.25  percent complete         \r",
        "60.5"
       ]
      },
      {
       "output_type": "stream",
       "stream": "stdout",
       "text": [
        "  percent complete         \r",
        "60.75  percent complete         \r",
        "61.0  percent complete         \r",
        "61.25  percent complete         \r",
        "61.5  percent complete         \r",
        "61.75"
       ]
      },
      {
       "output_type": "stream",
       "stream": "stdout",
       "text": [
        "  percent complete         \r",
        "62.0  percent complete         \r",
        "62.25  percent complete         \r",
        "62.5  percent complete         \r",
        "62.75  percent complete         \r",
        "63.0"
       ]
      },
      {
       "output_type": "stream",
       "stream": "stdout",
       "text": [
        "  percent complete         \r",
        "63.25  percent complete         \r",
        "63.5  percent complete         \r",
        "63.75  percent complete         \r",
        "64.0  percent complete         \r",
        "64.25"
       ]
      },
      {
       "output_type": "stream",
       "stream": "stdout",
       "text": [
        "  percent complete         \r",
        "64.5  percent complete         \r",
        "64.75  percent complete         \r",
        "65.0  percent complete         \r",
        "65.25  percent complete         \r",
        "65.5"
       ]
      },
      {
       "output_type": "stream",
       "stream": "stdout",
       "text": [
        "  percent complete         \r",
        "65.75  percent complete         \r",
        "66.0  percent complete         \r",
        "66.25  percent complete         \r",
        "66.5  percent complete         \r",
        "66.75"
       ]
      },
      {
       "output_type": "stream",
       "stream": "stdout",
       "text": [
        "  percent complete         \r",
        "67.0  percent complete         \r",
        "67.25  percent complete         \r",
        "67.5  percent complete         \r",
        "67.75  percent complete         \r",
        "68.0"
       ]
      },
      {
       "output_type": "stream",
       "stream": "stdout",
       "text": [
        "  percent complete         \r",
        "68.25  percent complete         \r",
        "68.5  percent complete         \r",
        "68.75  percent complete         \r",
        "69.0  percent complete         \r",
        "69.25"
       ]
      },
      {
       "output_type": "stream",
       "stream": "stdout",
       "text": [
        "  percent complete         \r",
        "69.5  percent complete         \r",
        "69.75  percent complete         \r",
        "70.0  percent complete         \r",
        "70.25  percent complete         \r",
        "70.5"
       ]
      },
      {
       "output_type": "stream",
       "stream": "stdout",
       "text": [
        "  percent complete         \r",
        "70.75  percent complete         \r",
        "71.0  percent complete         \r",
        "71.25  percent complete         \r",
        "71.5  percent complete         \r",
        "71.75"
       ]
      },
      {
       "output_type": "stream",
       "stream": "stdout",
       "text": [
        "  percent complete         \r",
        "72.0  percent complete         \r",
        "72.25  percent complete         \r",
        "72.5  percent complete         \r",
        "72.75  percent complete         \r",
        "73.0"
       ]
      },
      {
       "output_type": "stream",
       "stream": "stdout",
       "text": [
        "  percent complete         \r",
        "73.25  percent complete         \r",
        "73.5  percent complete         \r",
        "73.75  percent complete         \r",
        "74.0  percent complete         \r",
        "74.25"
       ]
      },
      {
       "output_type": "stream",
       "stream": "stdout",
       "text": [
        "  percent complete         \r",
        "74.5  percent complete         \r",
        "74.75  percent complete         \r",
        "75.0  percent complete         \r",
        "75.25  percent complete         \r",
        "75.5"
       ]
      },
      {
       "output_type": "stream",
       "stream": "stdout",
       "text": [
        "  percent complete         \r",
        "75.75  percent complete         \r",
        "76.0  percent complete         \r",
        "76.25  percent complete         \r",
        "76.5  percent complete         \r",
        "76.75"
       ]
      },
      {
       "output_type": "stream",
       "stream": "stdout",
       "text": [
        "  percent complete         \r",
        "77.0  percent complete         \r",
        "77.25  percent complete         \r",
        "77.5  percent complete         \r",
        "77.75  percent complete         \r",
        "78.0"
       ]
      },
      {
       "output_type": "stream",
       "stream": "stdout",
       "text": [
        "  percent complete         \r",
        "78.25  percent complete         \r",
        "78.5  percent complete         \r",
        "78.75  percent complete         \r",
        "79.0  percent complete         \r",
        "79.25"
       ]
      },
      {
       "output_type": "stream",
       "stream": "stdout",
       "text": [
        "  percent complete         \r",
        "79.5  percent complete         \r",
        "79.75  percent complete         \r",
        "80.0  percent complete         \r",
        "80.25  percent complete         \r",
        "80.5"
       ]
      },
      {
       "output_type": "stream",
       "stream": "stdout",
       "text": [
        "  percent complete         \r",
        "80.75  percent complete         \r",
        "81.0  percent complete         \r",
        "81.25  percent complete         \r",
        "81.5  percent complete         \r",
        "81.75"
       ]
      },
      {
       "output_type": "stream",
       "stream": "stdout",
       "text": [
        "  percent complete         \r",
        "82.0  percent complete         \r",
        "82.25  percent complete         \r",
        "82.5  percent complete         \r",
        "82.75  percent complete         \r",
        "83.0"
       ]
      },
      {
       "output_type": "stream",
       "stream": "stdout",
       "text": [
        "  percent complete         \r",
        "83.25  percent complete         \r",
        "83.5  percent complete         \r",
        "83.75  percent complete         \r",
        "84.0  percent complete         \r",
        "84.25"
       ]
      },
      {
       "output_type": "stream",
       "stream": "stdout",
       "text": [
        "  percent complete         \r",
        "84.5  percent complete         \r",
        "84.75  percent complete         \r",
        "85.0  percent complete         \r",
        "85.25  percent complete         \r",
        "85.5"
       ]
      },
      {
       "output_type": "stream",
       "stream": "stdout",
       "text": [
        "  percent complete         \r",
        "85.75  percent complete         \r",
        "86.0  percent complete         \r",
        "86.25  percent complete         \r",
        "86.5  percent complete         \r",
        "86.75"
       ]
      },
      {
       "output_type": "stream",
       "stream": "stdout",
       "text": [
        "  percent complete         \r",
        "87.0  percent complete         \r",
        "87.25  percent complete         \r",
        "87.5  percent complete         \r",
        "87.75  percent complete         \r",
        "88.0"
       ]
      },
      {
       "output_type": "stream",
       "stream": "stdout",
       "text": [
        "  percent complete         \r",
        "88.25  percent complete         \r",
        "88.5  percent complete         \r",
        "88.75  percent complete         \r",
        "89.0  percent complete         \r",
        "89.25"
       ]
      },
      {
       "output_type": "stream",
       "stream": "stdout",
       "text": [
        "  percent complete         \r",
        "89.5  percent complete         \r",
        "89.75  percent complete         \r",
        "90.0  percent complete         \r",
        "90.25  percent complete         \r",
        "90.5"
       ]
      },
      {
       "output_type": "stream",
       "stream": "stdout",
       "text": [
        "  percent complete         \r",
        "90.75  percent complete         \r",
        "91.0  percent complete         \r",
        "91.25  percent complete         \r",
        "91.5  percent complete         \r",
        "91.75"
       ]
      },
      {
       "output_type": "stream",
       "stream": "stdout",
       "text": [
        "  percent complete         \r",
        "92.0  percent complete         \r",
        "92.25  percent complete         \r",
        "92.5  percent complete         \r",
        "92.75  percent complete         \r",
        "93.0"
       ]
      },
      {
       "output_type": "stream",
       "stream": "stdout",
       "text": [
        "  percent complete         \r",
        "93.25  percent complete         \r",
        "93.5  percent complete         \r",
        "93.75  percent complete         \r",
        "94.0  percent complete         \r",
        "94.25"
       ]
      },
      {
       "output_type": "stream",
       "stream": "stdout",
       "text": [
        "  percent complete         \r",
        "94.5  percent complete         \r",
        "94.75  percent complete         \r",
        "95.0  percent complete         \r",
        "95.25  percent complete         \r",
        "95.5"
       ]
      },
      {
       "output_type": "stream",
       "stream": "stdout",
       "text": [
        "  percent complete         \r",
        "95.75  percent complete         \r",
        "96.0  percent complete         \r",
        "96.25  percent complete         \r",
        "96.5  percent complete         \r",
        "96.75"
       ]
      },
      {
       "output_type": "stream",
       "stream": "stdout",
       "text": [
        "  percent complete         \r",
        "97.0  percent complete         \r",
        "97.25  percent complete         \r",
        "97.5  percent complete         \r",
        "97.75  percent complete         \r",
        "98.0"
       ]
      },
      {
       "output_type": "stream",
       "stream": "stdout",
       "text": [
        "  percent complete         \r",
        "98.25  percent complete         \r",
        "98.5  percent complete         \r",
        "98.75  percent complete         \r",
        "99.0  percent complete         \r",
        "99.25"
       ]
      },
      {
       "output_type": "stream",
       "stream": "stdout",
       "text": [
        "  percent complete         \r",
        "99.5  percent complete         \r",
        "99.75  percent complete         \r\n",
        "done\n"
       ]
      }
     ],
     "prompt_number": 51
    },
    {
     "cell_type": "code",
     "collapsed": false,
     "input": [
      "print len(X_list)\n",
      "print len(y_seizure)\n",
      "print len(y_early)\n",
      "sum(x.shape[0] for x in X_list) "
     ],
     "language": "python",
     "metadata": {},
     "outputs": [
      {
       "output_type": "stream",
       "stream": "stdout",
       "text": [
        "3\n",
        "3\n",
        "3\n"
       ]
      },
      {
       "metadata": {},
       "output_type": "pyout",
       "prompt_number": 71,
       "text": [
        "398"
       ]
      }
     ],
     "prompt_number": 71
    },
    {
     "cell_type": "code",
     "collapsed": false,
     "input": [
      "X_list[2].shape\n",
      "y_early[0]"
     ],
     "language": "python",
     "metadata": {},
     "outputs": [
      {
       "metadata": {},
       "output_type": "pyout",
       "prompt_number": 68,
       "text": [
        "array([1, 1, 1, 1, 1, 1, 1, 1, 1, 1, 1, 1, 1, 1, 1, 1, 1, 0, 0, 0, 0, 0, 0,\n",
        "       0, 0, 0, 0, 0, 0, 0, 0, 0, 0, 0, 0, 0, 0, 0, 0, 0, 0, 0, 0, 0, 0, 0,\n",
        "       0, 0, 0, 0, 0, 0, 0, 0, 0, 0, 0, 0, 0, 0, 0, 0, 0, 0, 0, 0, 0, 0, 0,\n",
        "       0, 0, 0, 0, 0, 0, 0, 0, 0, 0, 0, 0, 0, 0, 0, 0, 0, 0, 0, 0, 0, 0, 0,\n",
        "       0, 0, 0, 0, 0, 0, 0, 0, 0, 0, 0, 0, 0, 0, 0, 0, 0, 0, 0, 0, 0, 0, 0,\n",
        "       0, 0, 0, 0, 0, 0, 0, 0, 0, 0, 0, 0, 0, 0, 0, 0, 0, 0])"
       ]
      }
     ],
     "prompt_number": 68
    },
    {
     "cell_type": "markdown",
     "metadata": {},
     "source": [
      "## Test gradient boosting classifier"
     ]
    },
    {
     "cell_type": "code",
     "collapsed": false,
     "input": [],
     "language": "python",
     "metadata": {},
     "outputs": [],
     "prompt_number": 79
    },
    {
     "cell_type": "code",
     "collapsed": false,
     "input": [
      "\n",
      "def gen_gaussian_sum(n, d):\n",
      "    \"\"\"toy data. X = Gaussian. Y = sum of coordinates of X\"\"\"\n",
      "    X = np.matrix(np.random.randn(n, d))\n",
      "    y = ( (np.sum(X, 1) + np.random.randn(n, 1)*0.1) > 0.5).astype(np.int)\n",
      "    #y = np.array(y, dtype=np.int)\n",
      "    X = np.asarray(X)\n",
      "    y = np.squeeze(np.asarray(y))\n",
      "    return X,y\n",
      "\n",
      "# n x d data matrix\n",
      "n=500\n",
      "d=40\n",
      "X,y = gen_gaussian_sum(n ,d)\n",
      "\n",
      "print X.shape\n",
      "print y.shape\n"
     ],
     "language": "python",
     "metadata": {},
     "outputs": [
      {
       "output_type": "stream",
       "stream": "stdout",
       "text": [
        "(500, 40)\n",
        "(500,)\n"
       ]
      }
     ],
     "prompt_number": 184
    },
    {
     "cell_type": "code",
     "collapsed": false,
     "input": [
      "from sklearn.ensemble import GradientBoostingClassifier\n",
      "# fit a gradient boosting classifier\n",
      "# n_estimators = number of boosting stages\n",
      "gbc = GradientBoostingClassifier(n_estimators=200)\n",
      "gbc.verbose=True\n",
      "gbc.fit(X, y)"
     ],
     "language": "python",
     "metadata": {},
     "outputs": [
      {
       "output_type": "stream",
       "stream": "stdout",
       "text": [
        "      Iter       Train Loss   Remaining Time \n",
        "         1           1.3334            2.68s\n",
        "         2           1.2929            2.34s\n",
        "         3           1.2576            2.24s\n",
        "         4           1.2244            2.17s\n",
        "         5           1.1846            2.12s"
       ]
      },
      {
       "output_type": "stream",
       "stream": "stdout",
       "text": [
        "\n",
        "         6           1.1516            2.12s\n",
        "         7           1.1181            2.10s\n",
        "         8           1.0913            2.10s\n",
        "         9           1.0569            2.07s\n",
        "        10           1.0267            2.04s"
       ]
      },
      {
       "output_type": "stream",
       "stream": "stdout",
       "text": [
        "\n",
        "        20           0.8127            1.90s"
       ]
      },
      {
       "output_type": "stream",
       "stream": "stdout",
       "text": [
        "\n",
        "        30           0.6513            1.77s"
       ]
      },
      {
       "output_type": "stream",
       "stream": "stdout",
       "text": [
        "\n",
        "        40           0.5346            1.67s"
       ]
      },
      {
       "output_type": "stream",
       "stream": "stdout",
       "text": [
        "\n",
        "        50           0.4389            1.57s"
       ]
      },
      {
       "output_type": "stream",
       "stream": "stdout",
       "text": [
        "\n",
        "        60           0.3678            1.47s"
       ]
      },
      {
       "output_type": "stream",
       "stream": "stdout",
       "text": [
        "\n",
        "        70           0.3062            1.36s"
       ]
      },
      {
       "output_type": "stream",
       "stream": "stdout",
       "text": [
        "\n",
        "        80           0.2639            1.25s"
       ]
      },
      {
       "output_type": "stream",
       "stream": "stdout",
       "text": [
        "\n",
        "        90           0.2210            1.15s"
       ]
      },
      {
       "output_type": "stream",
       "stream": "stdout",
       "text": [
        "\n",
        "       100           0.1905            1.04s"
       ]
      },
      {
       "output_type": "stream",
       "stream": "stdout",
       "text": [
        "\n",
        "       200           0.0469            0.00s"
       ]
      },
      {
       "output_type": "stream",
       "stream": "stdout",
       "text": [
        "\n"
       ]
      },
      {
       "metadata": {},
       "output_type": "pyout",
       "prompt_number": 185,
       "text": [
        "GradientBoostingClassifier(init=None, learning_rate=0.1, loss='deviance',\n",
        "              max_depth=3, max_features=None, min_samples_leaf=1,\n",
        "              min_samples_split=2, n_estimators=200, random_state=None,\n",
        "              subsample=1.0, verbose=True)"
       ]
      }
     ],
     "prompt_number": 185
    },
    {
     "cell_type": "code",
     "collapsed": false,
     "input": [
      "# testing data\n",
      "nte = 200\n",
      "Xte, yte = gen_gaussian_sum(nte, d)"
     ],
     "language": "python",
     "metadata": {},
     "outputs": [],
     "prompt_number": 186
    },
    {
     "cell_type": "code",
     "collapsed": false,
     "input": [
      "# test the learned gradient boosting classifier\n",
      "ypred = gbc.predict(Xte)\n",
      "print 'ground truth: '\n",
      "print yte\n",
      "print 'predicted: '\n",
      "print ypred\n",
      "print 'accuracy = %f'% ( np.mean(ypred==yte) )"
     ],
     "language": "python",
     "metadata": {},
     "outputs": [
      {
       "output_type": "stream",
       "stream": "stdout",
       "text": [
        "ground truth: \n",
        "[0 1 1 0 1 1 0 1 0 1 1 1 1 1 0 0 1 0 0 1 0 1 0 0 1 0 1 1 0 0 0 1 0 1 0 1 0\n",
        " 1 0 0 1 1 0 0 0 1 0 0 0 0 0 1 1 0 0 0 0 1 0 1 0 1 1 0 0 1 0 0 1 1 0 0 1 0\n",
        " 0 0 0 1 1 1 0 0 1 1 1 0 0 1 1 0 0 0 1 0 1 0 0 1 1 0 1 1 1 0 0 1 1 1 1 0 0\n",
        " 0 1 1 0 0 0 0 0 1 1 1 1 0 1 0 0 0 1 0 1 0 1 0 0 0 1 1 0 1 0 0 0 0 1 1 1 1\n",
        " 0 1 0 1 0 1 1 0 0 1 0 0 1 1 1 1 0 0 1 1 0 0 0 1 1 0 0 0 0 1 1 0 0 0 1 0 1\n",
        " 1 1 1 0 0 0 0 1 0 0 1 0 0 0 0]\n",
        "predicted: \n",
        "[0 1 1 0 0 1 0 1 0 1 1 1 1 0 0 0 0 0 0 1 1 0 0 0 1 0 1 1 0 0 0 0 1 1 0 1 0\n",
        " 1 1 0 0 0 0 0 0 0 0 1 0 0 1 0 1 1 1 1 0 1 0 1 0 0 1 0 1 1 0 0 1 0 0 0 1 1\n",
        " 1 0 0 1 1 0 1 0 1 1 1 1 1 1 1 0 0 0 0 0 1 1 1 1 0 0 1 0 1 0 1 1 1 1 1 0 0\n",
        " 1 1 0 0 1 0 0 0 1 1 1 1 1 1 0 0 0 1 0 1 1 0 0 0 0 1 0 0 0 0 0 0 0 0 0 1 0\n",
        " 0 1 0 1 0 0 0 1 1 1 0 1 1 1 1 0 0 0 1 1 0 0 1 1 1 0 1 0 0 1 1 0 0 0 1 0 1\n",
        " 1 1 1 0 0 0 0 1 1 0 1 0 0 0 1]\n",
        "accuracy = 0.735000\n"
       ]
      }
     ],
     "prompt_number": 187
    },
    {
     "cell_type": "code",
     "collapsed": false,
     "input": [
      "# prediction probabilities\n",
      "ypred_prob = gbc.predict_proba(Xte)"
     ],
     "language": "python",
     "metadata": {},
     "outputs": [],
     "prompt_number": 192
    },
    {
     "cell_type": "markdown",
     "metadata": {},
     "source": [
      "# Two-class AdaBoost"
     ]
    },
    {
     "cell_type": "code",
     "collapsed": false,
     "input": [
      "# http://scikit-learn.org/stable/auto_examples/ensemble/plot_adaboost_twoclass.html\n",
      "#\n",
      "# Author: Noel Dawe <noel.dawe@gmail.com>\n",
      "#\n",
      "# License: BSD 3 clause\n",
      "\n",
      "import numpy as np\n",
      "import matplotlib.pyplot as plt\n",
      "\n",
      "from sklearn.ensemble import AdaBoostClassifier\n",
      "from sklearn.tree import DecisionTreeClassifier\n",
      "from sklearn.datasets import make_gaussian_quantiles\n",
      "\n",
      "\n",
      "# Construct dataset\n",
      "X1, y1 = make_gaussian_quantiles(cov=2.,\n",
      "                                 n_samples=200, n_features=2,\n",
      "                                 n_classes=2, random_state=1)\n",
      "X2, y2 = make_gaussian_quantiles(mean=(3, 3), cov=1.5,\n",
      "                                 n_samples=300, n_features=2,\n",
      "                                 n_classes=2, random_state=1)\n",
      "X = np.concatenate((X1, X2))\n",
      "y = np.concatenate((y1, - y2 + 1))\n",
      "\n",
      "# Create and fit an AdaBoosted decision tree\n",
      "bdt = AdaBoostClassifier(DecisionTreeClassifier(max_depth=1),\n",
      "                         algorithm=\"SAMME\",\n",
      "                         n_estimators=200)\n",
      "\n",
      "bdt.fit(X, y)\n",
      "\n",
      "plot_colors = \"br\"\n",
      "plot_step = 0.02\n",
      "class_names = \"AB\"\n",
      "\n",
      "plt.figure(figsize=(10, 5))\n",
      "\n",
      "# Plot the decision boundaries\n",
      "plt.subplot(121)\n",
      "x_min, x_max = X[:, 0].min() - 1, X[:, 0].max() + 1\n",
      "y_min, y_max = X[:, 1].min() - 1, X[:, 1].max() + 1\n",
      "xx, yy = np.meshgrid(np.arange(x_min, x_max, plot_step),\n",
      "                     np.arange(y_min, y_max, plot_step))\n",
      "\n",
      "Z = bdt.predict(np.c_[xx.ravel(), yy.ravel()])\n",
      "Z = Z.reshape(xx.shape)\n",
      "cs = plt.contourf(xx, yy, Z, cmap=plt.cm.Paired)\n",
      "plt.axis(\"tight\")\n",
      "\n",
      "# Plot the training points\n",
      "for i, n, c in zip(range(2), class_names, plot_colors):\n",
      "    idx = np.where(y == i)\n",
      "    plt.scatter(X[idx, 0], X[idx, 1],\n",
      "                c=c, cmap=plt.cm.Paired,\n",
      "                label=\"Class %s\" % n)\n",
      "plt.xlim(x_min, x_max)\n",
      "plt.ylim(y_min, y_max)\n",
      "plt.legend(loc='upper right')\n",
      "plt.xlabel(\"Decision Boundary\")\n",
      "\n",
      "# Plot the two-class decision scores\n",
      "twoclass_output = bdt.decision_function(X)\n",
      "plot_range = (twoclass_output.min(), twoclass_output.max())\n",
      "plt.subplot(122)\n",
      "for i, n, c in zip(range(2), class_names, plot_colors):\n",
      "    plt.hist(twoclass_output[y == i],\n",
      "             bins=10,\n",
      "             range=plot_range,\n",
      "             facecolor=c,\n",
      "             label='Class %s' % n,\n",
      "             alpha=.5)\n",
      "x1, x2, y1, y2 = plt.axis()\n",
      "plt.axis((x1, x2, y1, y2 * 1.2))\n",
      "plt.legend(loc='upper right')\n",
      "plt.ylabel('Samples')\n",
      "plt.xlabel('Decision Scores')\n",
      "\n",
      "plt.subplots_adjust(wspace=0.25)\n",
      "plt.show()"
     ],
     "language": "python",
     "metadata": {},
     "outputs": [
      {
       "metadata": {},
       "output_type": "display_data",
       "png": "[encoded data removed]",
       "text": [
        "<matplotlib.figure.Figure at 0xa5abb6cc>"
       ]
      }
     ],
     "prompt_number": 193
    },
    {
     "cell_type": "code",
     "collapsed": false,
     "input": [],
     "language": "python",
     "metadata": {},
     "outputs": []
    }
   ],
   "metadata": {}
  }
 ]
}